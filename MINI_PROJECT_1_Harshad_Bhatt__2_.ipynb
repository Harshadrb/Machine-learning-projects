{
 "cells": [
  {
   "cell_type": "markdown",
   "id": "099a7284",
   "metadata": {},
   "source": [
    "### Importing required Python Libraries"
   ]
  },
  {
   "cell_type": "code",
   "execution_count": 1,
   "id": "4461aade",
   "metadata": {},
   "outputs": [],
   "source": [
    "import numpy as np\n",
    "import pandas as pd\n",
    "\n",
    "import matplotlib.pyplot as plt # for visualization\n",
    "\n",
    "import seaborn as sns           # for visualization\n",
    "\n",
    "from sklearn import preprocessing   # for machine learning\n",
    "from sklearn.preprocessing import MinMaxScaler, StandardScaler \n",
    "from sklearn.model_selection import train_test_split\n",
    "from sklearn.linear_model import LinearRegression\n",
    "\n",
    "# enable inline plots in the notebook\n",
    "%matplotlib inline"
   ]
  },
  {
   "cell_type": "markdown",
   "id": "a69265a2",
   "metadata": {},
   "source": [
    "## Uploading data file"
   ]
  },
  {
   "cell_type": "code",
   "execution_count": 2,
   "id": "9fcd5992",
   "metadata": {},
   "outputs": [
    {
     "data": {
      "text/html": [
       "<div>\n",
       "<style scoped>\n",
       "    .dataframe tbody tr th:only-of-type {\n",
       "        vertical-align: middle;\n",
       "    }\n",
       "\n",
       "    .dataframe tbody tr th {\n",
       "        vertical-align: top;\n",
       "    }\n",
       "\n",
       "    .dataframe thead th {\n",
       "        text-align: right;\n",
       "    }\n",
       "</style>\n",
       "<table border=\"1\" class=\"dataframe\">\n",
       "  <thead>\n",
       "    <tr style=\"text-align: right;\">\n",
       "      <th></th>\n",
       "      <th>Item_Identifier</th>\n",
       "      <th>Item_Weight</th>\n",
       "      <th>Item_Fat_Content</th>\n",
       "      <th>Item_Visibility</th>\n",
       "      <th>Item_Type</th>\n",
       "      <th>Item_MRP</th>\n",
       "      <th>Outlet_Identifier</th>\n",
       "      <th>Outlet_Establishment_Year</th>\n",
       "      <th>Outlet_Size</th>\n",
       "      <th>Outlet_Location_Type</th>\n",
       "      <th>Outlet_Type</th>\n",
       "      <th>Item_Outlet_Sales</th>\n",
       "    </tr>\n",
       "  </thead>\n",
       "  <tbody>\n",
       "    <tr>\n",
       "      <th>0</th>\n",
       "      <td>FDA15</td>\n",
       "      <td>9.30</td>\n",
       "      <td>Low Fat</td>\n",
       "      <td>0.016047</td>\n",
       "      <td>Dairy</td>\n",
       "      <td>249.8092</td>\n",
       "      <td>OUT049</td>\n",
       "      <td>1999</td>\n",
       "      <td>Medium</td>\n",
       "      <td>Tier 1</td>\n",
       "      <td>Supermarket Type1</td>\n",
       "      <td>3735.1380</td>\n",
       "    </tr>\n",
       "    <tr>\n",
       "      <th>1</th>\n",
       "      <td>DRC01</td>\n",
       "      <td>5.92</td>\n",
       "      <td>Regular</td>\n",
       "      <td>0.019278</td>\n",
       "      <td>Soft Drinks</td>\n",
       "      <td>48.2692</td>\n",
       "      <td>OUT018</td>\n",
       "      <td>2009</td>\n",
       "      <td>Medium</td>\n",
       "      <td>Tier 3</td>\n",
       "      <td>Supermarket Type2</td>\n",
       "      <td>443.4228</td>\n",
       "    </tr>\n",
       "    <tr>\n",
       "      <th>2</th>\n",
       "      <td>FDN15</td>\n",
       "      <td>17.50</td>\n",
       "      <td>Low Fat</td>\n",
       "      <td>0.016760</td>\n",
       "      <td>Meat</td>\n",
       "      <td>141.6180</td>\n",
       "      <td>OUT049</td>\n",
       "      <td>1999</td>\n",
       "      <td>Medium</td>\n",
       "      <td>Tier 1</td>\n",
       "      <td>Supermarket Type1</td>\n",
       "      <td>2097.2700</td>\n",
       "    </tr>\n",
       "    <tr>\n",
       "      <th>3</th>\n",
       "      <td>FDX07</td>\n",
       "      <td>19.20</td>\n",
       "      <td>Regular</td>\n",
       "      <td>0.074402</td>\n",
       "      <td>Fruits and Vegetables</td>\n",
       "      <td>182.0950</td>\n",
       "      <td>OUT010</td>\n",
       "      <td>1998</td>\n",
       "      <td>Medium</td>\n",
       "      <td>Tier 3</td>\n",
       "      <td>Grocery Store</td>\n",
       "      <td>732.3800</td>\n",
       "    </tr>\n",
       "    <tr>\n",
       "      <th>4</th>\n",
       "      <td>NCD19</td>\n",
       "      <td>8.93</td>\n",
       "      <td>Low Fat</td>\n",
       "      <td>0.064299</td>\n",
       "      <td>Household</td>\n",
       "      <td>53.8614</td>\n",
       "      <td>OUT013</td>\n",
       "      <td>1987</td>\n",
       "      <td>High</td>\n",
       "      <td>Tier 3</td>\n",
       "      <td>Supermarket Type1</td>\n",
       "      <td>994.7052</td>\n",
       "    </tr>\n",
       "  </tbody>\n",
       "</table>\n",
       "</div>"
      ],
      "text/plain": [
       "  Item_Identifier  Item_Weight Item_Fat_Content  Item_Visibility  \\\n",
       "0           FDA15         9.30          Low Fat         0.016047   \n",
       "1           DRC01         5.92          Regular         0.019278   \n",
       "2           FDN15        17.50          Low Fat         0.016760   \n",
       "3           FDX07        19.20          Regular         0.074402   \n",
       "4           NCD19         8.93          Low Fat         0.064299   \n",
       "\n",
       "               Item_Type  Item_MRP Outlet_Identifier  \\\n",
       "0                  Dairy  249.8092            OUT049   \n",
       "1            Soft Drinks   48.2692            OUT018   \n",
       "2                   Meat  141.6180            OUT049   \n",
       "3  Fruits and Vegetables  182.0950            OUT010   \n",
       "4              Household   53.8614            OUT013   \n",
       "\n",
       "   Outlet_Establishment_Year Outlet_Size Outlet_Location_Type  \\\n",
       "0                       1999      Medium               Tier 1   \n",
       "1                       2009      Medium               Tier 3   \n",
       "2                       1999      Medium               Tier 1   \n",
       "3                       1998      Medium               Tier 3   \n",
       "4                       1987        High               Tier 3   \n",
       "\n",
       "         Outlet_Type  Item_Outlet_Sales  \n",
       "0  Supermarket Type1          3735.1380  \n",
       "1  Supermarket Type2           443.4228  \n",
       "2  Supermarket Type1          2097.2700  \n",
       "3      Grocery Store           732.3800  \n",
       "4  Supermarket Type1           994.7052  "
      ]
     },
     "execution_count": 2,
     "metadata": {},
     "output_type": "execute_result"
    }
   ],
   "source": [
    "sales_df=pd.read_csv(\"DS3_C6_S1_Regression_StoreSales_Data_Project.csv\")\n",
    "sales_df.head()"
   ]
  },
  {
   "cell_type": "markdown",
   "id": "2baad6dc",
   "metadata": {},
   "source": [
    "### Understanding Data"
   ]
  },
  {
   "cell_type": "code",
   "execution_count": 3,
   "id": "24747ccf",
   "metadata": {},
   "outputs": [
    {
     "data": {
      "text/plain": [
       "(14204, 12)"
      ]
     },
     "execution_count": 3,
     "metadata": {},
     "output_type": "execute_result"
    }
   ],
   "source": [
    "sales_df.shape"
   ]
  },
  {
   "cell_type": "code",
   "execution_count": 4,
   "id": "7a84af8a",
   "metadata": {},
   "outputs": [
    {
     "name": "stdout",
     "output_type": "stream",
     "text": [
      "<class 'pandas.core.frame.DataFrame'>\n",
      "RangeIndex: 14204 entries, 0 to 14203\n",
      "Data columns (total 12 columns):\n",
      " #   Column                     Non-Null Count  Dtype  \n",
      "---  ------                     --------------  -----  \n",
      " 0   Item_Identifier            14204 non-null  object \n",
      " 1   Item_Weight                14204 non-null  float64\n",
      " 2   Item_Fat_Content           14204 non-null  object \n",
      " 3   Item_Visibility            14204 non-null  float64\n",
      " 4   Item_Type                  14204 non-null  object \n",
      " 5   Item_MRP                   14204 non-null  float64\n",
      " 6   Outlet_Identifier          14204 non-null  object \n",
      " 7   Outlet_Establishment_Year  14204 non-null  int64  \n",
      " 8   Outlet_Size                14204 non-null  object \n",
      " 9   Outlet_Location_Type       14204 non-null  object \n",
      " 10  Outlet_Type                14204 non-null  object \n",
      " 11  Item_Outlet_Sales          8523 non-null   float64\n",
      "dtypes: float64(4), int64(1), object(7)\n",
      "memory usage: 1.3+ MB\n"
     ]
    }
   ],
   "source": [
    "sales_df.info()"
   ]
  },
  {
   "cell_type": "markdown",
   "id": "fe65dcd4",
   "metadata": {},
   "source": [
    "## Preprocessing"
   ]
  },
  {
   "cell_type": "markdown",
   "id": "81398bb6",
   "metadata": {},
   "source": [
    "#### Exploring the descriptive statistics of the variables"
   ]
  },
  {
   "cell_type": "code",
   "execution_count": 5,
   "id": "c8e92898",
   "metadata": {},
   "outputs": [
    {
     "data": {
      "text/html": [
       "<div>\n",
       "<style scoped>\n",
       "    .dataframe tbody tr th:only-of-type {\n",
       "        vertical-align: middle;\n",
       "    }\n",
       "\n",
       "    .dataframe tbody tr th {\n",
       "        vertical-align: top;\n",
       "    }\n",
       "\n",
       "    .dataframe thead th {\n",
       "        text-align: right;\n",
       "    }\n",
       "</style>\n",
       "<table border=\"1\" class=\"dataframe\">\n",
       "  <thead>\n",
       "    <tr style=\"text-align: right;\">\n",
       "      <th></th>\n",
       "      <th>Item_Weight</th>\n",
       "      <th>Item_Visibility</th>\n",
       "      <th>Item_MRP</th>\n",
       "      <th>Outlet_Establishment_Year</th>\n",
       "      <th>Item_Outlet_Sales</th>\n",
       "    </tr>\n",
       "  </thead>\n",
       "  <tbody>\n",
       "    <tr>\n",
       "      <th>count</th>\n",
       "      <td>14204.000000</td>\n",
       "      <td>14204.000000</td>\n",
       "      <td>14204.000000</td>\n",
       "      <td>14204.000000</td>\n",
       "      <td>8523.000000</td>\n",
       "    </tr>\n",
       "    <tr>\n",
       "      <th>mean</th>\n",
       "      <td>12.793380</td>\n",
       "      <td>0.070301</td>\n",
       "      <td>141.004977</td>\n",
       "      <td>1997.830681</td>\n",
       "      <td>2181.288914</td>\n",
       "    </tr>\n",
       "    <tr>\n",
       "      <th>std</th>\n",
       "      <td>4.651716</td>\n",
       "      <td>0.048621</td>\n",
       "      <td>62.086938</td>\n",
       "      <td>8.371664</td>\n",
       "      <td>1706.499616</td>\n",
       "    </tr>\n",
       "    <tr>\n",
       "      <th>min</th>\n",
       "      <td>4.555000</td>\n",
       "      <td>0.003575</td>\n",
       "      <td>31.290000</td>\n",
       "      <td>1985.000000</td>\n",
       "      <td>33.290000</td>\n",
       "    </tr>\n",
       "    <tr>\n",
       "      <th>25%</th>\n",
       "      <td>8.710000</td>\n",
       "      <td>0.033143</td>\n",
       "      <td>94.012000</td>\n",
       "      <td>1987.000000</td>\n",
       "      <td>834.247400</td>\n",
       "    </tr>\n",
       "    <tr>\n",
       "      <th>50%</th>\n",
       "      <td>12.600000</td>\n",
       "      <td>0.062347</td>\n",
       "      <td>142.247000</td>\n",
       "      <td>1999.000000</td>\n",
       "      <td>1794.331000</td>\n",
       "    </tr>\n",
       "    <tr>\n",
       "      <th>75%</th>\n",
       "      <td>16.750000</td>\n",
       "      <td>0.094037</td>\n",
       "      <td>185.855600</td>\n",
       "      <td>2004.000000</td>\n",
       "      <td>3101.296400</td>\n",
       "    </tr>\n",
       "    <tr>\n",
       "      <th>max</th>\n",
       "      <td>21.350000</td>\n",
       "      <td>0.328391</td>\n",
       "      <td>266.888400</td>\n",
       "      <td>2009.000000</td>\n",
       "      <td>13086.964800</td>\n",
       "    </tr>\n",
       "  </tbody>\n",
       "</table>\n",
       "</div>"
      ],
      "text/plain": [
       "        Item_Weight  Item_Visibility      Item_MRP  Outlet_Establishment_Year  \\\n",
       "count  14204.000000     14204.000000  14204.000000               14204.000000   \n",
       "mean      12.793380         0.070301    141.004977                1997.830681   \n",
       "std        4.651716         0.048621     62.086938                   8.371664   \n",
       "min        4.555000         0.003575     31.290000                1985.000000   \n",
       "25%        8.710000         0.033143     94.012000                1987.000000   \n",
       "50%       12.600000         0.062347    142.247000                1999.000000   \n",
       "75%       16.750000         0.094037    185.855600                2004.000000   \n",
       "max       21.350000         0.328391    266.888400                2009.000000   \n",
       "\n",
       "       Item_Outlet_Sales  \n",
       "count        8523.000000  \n",
       "mean         2181.288914  \n",
       "std          1706.499616  \n",
       "min            33.290000  \n",
       "25%           834.247400  \n",
       "50%          1794.331000  \n",
       "75%          3101.296400  \n",
       "max         13086.964800  "
      ]
     },
     "execution_count": 5,
     "metadata": {},
     "output_type": "execute_result"
    }
   ],
   "source": [
    "# Descriptive statistics are very useful for initial exploration of the variables\n",
    "# By default, only descriptives for the numerical variables are shown\n",
    "sales_df.describe()"
   ]
  },
  {
   "cell_type": "markdown",
   "id": "df378cbf",
   "metadata": {},
   "source": [
    "## Checking with missing values"
   ]
  },
  {
   "cell_type": "code",
   "execution_count": 6,
   "id": "5d68cc9b",
   "metadata": {},
   "outputs": [
    {
     "data": {
      "text/plain": [
       "Item_Identifier                 0\n",
       "Item_Weight                     0\n",
       "Item_Fat_Content                0\n",
       "Item_Visibility                 0\n",
       "Item_Type                       0\n",
       "Item_MRP                        0\n",
       "Outlet_Identifier               0\n",
       "Outlet_Establishment_Year       0\n",
       "Outlet_Size                     0\n",
       "Outlet_Location_Type            0\n",
       "Outlet_Type                     0\n",
       "Item_Outlet_Sales            5681\n",
       "dtype: int64"
      ]
     },
     "execution_count": 6,
     "metadata": {},
     "output_type": "execute_result"
    }
   ],
   "source": [
    "# This will give us the total number of missing values feature-wise\n",
    "sales_df.isnull().sum()"
   ]
  },
  {
   "cell_type": "markdown",
   "id": "690dfaa0",
   "metadata": {},
   "source": [
    "##### Putting not null values as train data and null values can be used for pridiction of data"
   ]
  },
  {
   "cell_type": "markdown",
   "id": "d5d8c188",
   "metadata": {},
   "source": [
    "### Separating Categorical and Numerical Variables"
   ]
  },
  {
   "cell_type": "code",
   "execution_count": 8,
   "id": "f0d4f0d2",
   "metadata": {},
   "outputs": [],
   "source": [
    "def info_of_cat(col): \n",
    "    print(f\"Unique values in {col} are: {sales_df[col].unique()}\") # unique: returns the unique values in the col\n",
    "    print(f\"Mode of {col} is {sales_df[col].mode()[0]}\")  # mode: returns the mode of the column\n",
    "    print(f\"Number of missing values in {col} is {sales_df[col].isnull().sum()}\") # isnull().sum() counts the number of null in dataframe\n",
    "    if sales_df[col].isnull().sum() > 0:  # check if null values are present\n",
    "        print(f\"\\nThere are null values in the {col} column\")"
   ]
  },
  {
   "cell_type": "code",
   "execution_count": 9,
   "id": "87513175",
   "metadata": {},
   "outputs": [
    {
     "name": "stdout",
     "output_type": "stream",
     "text": [
      "Unique values in Item_Fat_Content are: ['Low Fat' 'Regular']\n",
      "Mode of Item_Fat_Content is Low Fat\n",
      "Number of missing values in Item_Fat_Content is 0\n"
     ]
    }
   ],
   "source": [
    "info_of_cat(\"Item_Fat_Content\")"
   ]
  },
  {
   "cell_type": "code",
   "execution_count": 10,
   "id": "0d776194",
   "metadata": {},
   "outputs": [
    {
     "data": {
      "image/png": "[encoded data removed]",
      "text/plain": [
       "<Figure size 1152x576 with 2 Axes>"
      ]
     },
     "metadata": {
      "needs_background": "light"
     },
     "output_type": "display_data"
    }
   ],
   "source": [
    "fig, ax=plt.subplots(1,2,figsize=(16,8))\n",
    "ax[0].set_title(\"Count of Item_Fat_Content\")\n",
    "percentage=sales_df[\"Item_Fat_Content\"].value_counts()\n",
    "labels=list(sales_df[\"Item_Fat_Content\"].value_counts().index)\n",
    "\n",
    "sns.countplot(x=sales_df[\"Item_Fat_Content\"], ax=ax[0])\n",
    "plt.pie(percentage,labels=labels, autopct=\"%0.2f%%\")\n",
    "\n",
    "plt.show()"
   ]
  },
  {
   "cell_type": "markdown",
   "id": "0e8a9c20",
   "metadata": {},
   "source": [
    "###### Low fat content has has more sales as if now in the store"
   ]
  },
  {
   "cell_type": "code",
   "execution_count": 11,
   "id": "c9f390da",
   "metadata": {},
   "outputs": [
    {
     "name": "stdout",
     "output_type": "stream",
     "text": [
      "Unique values in Item_Type are: ['Dairy' 'Soft Drinks' 'Meat' 'Fruits and Vegetables' 'Household'\n",
      " 'Baking Goods' 'Snack Foods' 'Frozen Foods' 'Breakfast'\n",
      " 'Health and Hygiene' 'Hard Drinks' 'Canned' 'Breads' 'Starchy Foods'\n",
      " 'Others' 'Seafood']\n",
      "Mode of Item_Type is Fruits and Vegetables\n",
      "Number of missing values in Item_Type is 0\n"
     ]
    }
   ],
   "source": [
    "info_of_cat(\"Item_Type\")"
   ]
  },
  {
   "cell_type": "code",
   "execution_count": 12,
   "id": "ea562e1c",
   "metadata": {},
   "outputs": [
    {
     "data": {
      "image/png": "[encoded data removed]",
      "text/plain": [
       "<Figure size 1440x576 with 1 Axes>"
      ]
     },
     "metadata": {
      "needs_background": "light"
     },
     "output_type": "display_data"
    }
   ],
   "source": [
    "# Plot the graph-\n",
    "fig, ax = plt.subplots(figsize= (20,8))\n",
    "ax = sns.countplot(x = sales_df[\"Item_Type\"])\n",
    "ax.set_xticklabels(ax.get_xticklabels(), rotation = 40 , ha = \"right\") # set_xticklabels is used to set the labels of the x axis\n",
    "                                                                       # ax.get_xtickslabels() returns all the labels that we need to print\n",
    "                                                                       # rotation: rotate the xlabels at angle provided, and\n",
    "                                                                       # ha: Horizontal axis:-> how you want to keep it. can be changed to center, left, right\n",
    "count = len(sales_df[\"Item_Type\"])                                     # counting the number of rows in whole dataset\n",
    "for bar in ax.patches:                                                 # ax.patches returns the rectange object from matplotlib \n",
    "    percentage = f\"{round((bar.get_height()/count)*100, 2)} %\"           # first it calculate the bar heightand then dividing by the number of row(to calculate percentage)\n",
    "                                                                            # in data and multiply with 100 to get the percentage and rounding of by 2 numbers.  \n",
    "    x = bar.get_x() + bar.get_width() /2                                # get_x: returns the left corrdinate of the rectange, get_width: returns width of rectagle\n",
    "    y = bar.get_height()                                                # get_height: returns height of rectangle bar.\n",
    "    ax.annotate(percentage, (x, y), ha = \"center\", va = \"top\")          # va: Vertical axis: -> top means percentage would bneath the bar head\n",
    "                                                                        # annotate: used to annotate over objects. here objects are the bars \n",
    "plt.show()"
   ]
  },
  {
   "cell_type": "markdown",
   "id": "2aa957e9",
   "metadata": {},
   "source": [
    "###### Fruits and Vegetables followed by Snack Foods are more popular in the store"
   ]
  },
  {
   "cell_type": "markdown",
   "id": "645c1ab6",
   "metadata": {},
   "source": [
    "### 𝑈𝑛𝑖𝑣𝑎𝑟𝑖𝑎𝑡𝑒 𝐴𝑛𝑎𝑙𝑦𝑠𝑖𝑠 𝑜𝑓 𝑁𝑢𝑚𝑒𝑟𝑖𝑐𝑎𝑙 𝑉𝑎𝑟𝑖𝑎𝑏𝑙𝑒𝑠"
   ]
  },
  {
   "cell_type": "code",
   "execution_count": 14,
   "id": "0c1c6f34",
   "metadata": {},
   "outputs": [],
   "source": [
    "def info_of_numerical(col):\n",
    "    print(f\"The mean of the {col} is {sales_df[col].mean()}\")\n",
    "    print(f\"The median of the {col} is {sales_df[col].median()}\")\n",
    "    print(f\"The mode of the {col} is {sales_df[col].mode()[0]}\")\n",
    "    print(f\"The standard deviation of the {col} is {sales_df[col].std()}\")\n",
    "    print(f\"Number of missing values in the {col} is {sales_df[col].isnull().sum()}\")"
   ]
  },
  {
   "cell_type": "markdown",
   "id": "cd1db3ed",
   "metadata": {},
   "source": [
    "#### Weight analysis"
   ]
  },
  {
   "cell_type": "code",
   "execution_count": 16,
   "id": "151c5d81",
   "metadata": {},
   "outputs": [
    {
     "name": "stdout",
     "output_type": "stream",
     "text": [
      "The mean of the Item_Weight is 12.793380385807628\n",
      "The median of the Item_Weight is 12.6\n",
      "The mode of the Item_Weight is 17.6\n",
      "The standard deviation of the Item_Weight is 4.6517158036609825\n",
      "Number of missing values in the Item_Weight is 0\n"
     ]
    }
   ],
   "source": [
    "info_of_numerical(\"Item_Weight\")"
   ]
  },
  {
   "cell_type": "code",
   "execution_count": 17,
   "id": "d59f4228",
   "metadata": {},
   "outputs": [
    {
     "data": {
      "image/png": "[encoded data removed]",
      "text/plain": [
       "<Figure size 1440x504 with 2 Axes>"
      ]
     },
     "metadata": {
      "needs_background": "light"
     },
     "output_type": "display_data"
    }
   ],
   "source": [
    "# Distribution of AMT_INCOME_TOTAL\n",
    "fig, ax = plt.subplots(1, 2, figsize= (20, 7))               # Creating the space for the 2 images, first argument in subplots is rows and second is columns and the figure size\n",
    "sns.histplot(x = sales_df[\"Item_Weight\"], ax =ax[1], color = \"m\") # ax[1] means image will plot at the second space\n",
    "sns.boxplot(x = sales_df[\"Item_Weight\"], ax = ax[0], color = \"g\") # ax[0] means image will plot at the second space\n",
    "plt.show()"
   ]
  },
  {
   "cell_type": "markdown",
   "id": "231641f6",
   "metadata": {},
   "source": [
    "##### 50% of the weights of the items varies between approximatly 8-17"
   ]
  },
  {
   "cell_type": "markdown",
   "id": "61971f5e",
   "metadata": {},
   "source": [
    "### Analysis of Item Visibility"
   ]
  },
  {
   "cell_type": "code",
   "execution_count": 18,
   "id": "4afa3d5f",
   "metadata": {},
   "outputs": [
    {
     "name": "stdout",
     "output_type": "stream",
     "text": [
      "The mean of the Item_Visibility is 0.07030079341671354\n",
      "The median of the Item_Visibility is 0.062347052\n",
      "The mode of the Item_Visibility is 0.06470883\n",
      "The standard deviation of the Item_Visibility is 0.048621198376929964\n",
      "Number of missing values in the Item_Visibility is 0\n"
     ]
    }
   ],
   "source": [
    "info_of_numerical(\"Item_Visibility\")"
   ]
  },
  {
   "cell_type": "code",
   "execution_count": 19,
   "id": "4451cf8a",
   "metadata": {},
   "outputs": [
    {
     "data": {
      "image/png": "[encoded data removed]",
      "text/plain": [
       "<Figure size 1440x504 with 2 Axes>"
      ]
     },
     "metadata": {
      "needs_background": "light"
     },
     "output_type": "display_data"
    }
   ],
   "source": [
    "# Distribution of AMT_INCOME_TOTAL\n",
    "fig, ax = plt.subplots(1, 2, figsize= (20, 7))               # Creating the space for the 2 images, first argument in subplots is rows and second is columns and the figure size\n",
    "sns.histplot(x = sales_df[\"Item_Visibility\"], ax =ax[1], color = \"m\") # ax[1] means image will plot at the second space\n",
    "sns.boxplot(x = sales_df[\"Item_Visibility\"], ax = ax[0], color = \"g\") # ax[0] means image will plot at the second space\n",
    "plt.show()"
   ]
  },
  {
   "cell_type": "markdown",
   "id": "dc1e2c47",
   "metadata": {},
   "source": [
    "##### As we can clearly see there are many outliers in the visibility of the items"
   ]
  },
  {
   "cell_type": "markdown",
   "id": "180b1280",
   "metadata": {},
   "source": [
    "### After Capping"
   ]
  },
  {
   "cell_type": "code",
   "execution_count": 20,
   "id": "c877ea50",
   "metadata": {},
   "outputs": [],
   "source": [
    "sales_df[\"Item_Visibility\"].quantile(.95)\n",
    "sales_df[\"Item_Visibility\"]=sales_df[\"Item_Visibility\"].clip(upper=sales_df[\"Item_Visibility\"].quantile(0.95))"
   ]
  },
  {
   "cell_type": "code",
   "execution_count": 21,
   "id": "de11f739",
   "metadata": {},
   "outputs": [
    {
     "data": {
      "image/png": "[encoded data removed]",
      "text/plain": [
       "<Figure size 1440x504 with 2 Axes>"
      ]
     },
     "metadata": {
      "needs_background": "light"
     },
     "output_type": "display_data"
    }
   ],
   "source": [
    "# Distribution of AMT_INCOME_TOTAL\n",
    "fig, ax = plt.subplots(1, 2, figsize= (20, 7))               # Creating the space for the 2 images, first argument in subplots is rows and second is columns and the figure size\n",
    "sns.histplot(x = sales_df[\"Item_Visibility\"], ax =ax[1], color = \"m\") # ax[1] means image will plot at the second space\n",
    "sns.boxplot(x = sales_df[\"Item_Visibility\"], ax = ax[0], color = \"g\") # ax[0] means image will plot at the second space\n",
    "plt.show()"
   ]
  },
  {
   "cell_type": "markdown",
   "id": "2805702c",
   "metadata": {},
   "source": [
    "###### Approximately 75% of data have visibility 0.1"
   ]
  },
  {
   "cell_type": "code",
   "execution_count": 22,
   "id": "2337bd5b",
   "metadata": {},
   "outputs": [
    {
     "data": {
      "image/png": "[encoded data removed]",
      "text/plain": [
       "<Figure size 720x504 with 1 Axes>"
      ]
     },
     "metadata": {
      "needs_background": "light"
     },
     "output_type": "display_data"
    }
   ],
   "source": [
    "fig,ax= plt.subplots(figsize=(10,7))\n",
    "sns.barplot(x=sales_df['Outlet_Location_Type'],y=sales_df['Item_Outlet_Sales'],ci=None,ax=ax)\n",
    "count=len(sales_df['Item_Fat_Content'])\n",
    "\n",
    "for bar in ax.patches:\n",
    "    percentage = f'{round((bar.get_height()/count),2)}%'\n",
    "    \n",
    "    x=bar.get_x()+bar.get_width()/2\n",
    "    y=bar.get_height()\n",
    "    ax.annotate(percentage,(x,y),ha='center',va='top')\n",
    "    \n",
    "plt.show()"
   ]
  },
  {
   "cell_type": "markdown",
   "id": "5c33a78b",
   "metadata": {},
   "source": [
    "\n"
   ]
  },
  {
   "cell_type": "markdown",
   "id": "b5742a64",
   "metadata": {},
   "source": [
    "## Feature Engineering"
   ]
  },
  {
   "cell_type": "code",
   "execution_count": 23,
   "id": "db1790c8",
   "metadata": {},
   "outputs": [
    {
     "data": {
      "text/plain": [
       "Index(['Item_Identifier', 'Item_Weight', 'Item_Fat_Content', 'Item_Visibility',\n",
       "       'Item_Type', 'Item_MRP', 'Outlet_Identifier',\n",
       "       'Outlet_Establishment_Year', 'Outlet_Size', 'Outlet_Location_Type',\n",
       "       'Outlet_Type', 'Item_Outlet_Sales'],\n",
       "      dtype='object')"
      ]
     },
     "execution_count": 23,
     "metadata": {},
     "output_type": "execute_result"
    }
   ],
   "source": [
    "# All columns\n",
    "sales_df_c=sales_df\n",
    "columns=sales_df_c.columns\n",
    "columns"
   ]
  },
  {
   "cell_type": "code",
   "execution_count": 24,
   "id": "8a739c1d",
   "metadata": {},
   "outputs": [
    {
     "name": "stdout",
     "output_type": "stream",
     "text": [
      "  Item_Identifier  Item_Weight Item_Fat_Content  Item_Visibility  \\\n",
      "0           FDA15         9.30          Low Fat         0.016047   \n",
      "1           DRC01         5.92          Regular         0.019278   \n",
      "2           FDN15        17.50          Low Fat         0.016760   \n",
      "3           FDX07        19.20          Regular         0.074402   \n",
      "4           NCD19         8.93          Low Fat         0.064299   \n",
      "\n",
      "               Item_Type  Item_MRP Outlet_Identifier  \\\n",
      "0                  Dairy  249.8092            OUT049   \n",
      "1            Soft Drinks   48.2692            OUT018   \n",
      "2                   Meat  141.6180            OUT049   \n",
      "3  Fruits and Vegetables  182.0950            OUT010   \n",
      "4              Household   53.8614            OUT013   \n",
      "\n",
      "  Outlet_Establishment_Year Outlet_Size Outlet_Location_Type  \\\n",
      "0                      1999      Medium               Tier 1   \n",
      "1                      2009      Medium               Tier 3   \n",
      "2                      1999      Medium               Tier 1   \n",
      "3                      1998      Medium               Tier 3   \n",
      "4                      1987        High               Tier 3   \n",
      "\n",
      "         Outlet_Type  Item_Outlet_Sales  \n",
      "0  Supermarket Type1          3735.1380  \n",
      "1  Supermarket Type2           443.4228  \n",
      "2  Supermarket Type1          2097.2700  \n",
      "3      Grocery Store           732.3800  \n",
      "4  Supermarket Type1           994.7052  \n",
      "Item_Identifier                object\n",
      "Item_Weight                   float64\n",
      "Item_Fat_Content             category\n",
      "Item_Visibility               float64\n",
      "Item_Type                    category\n",
      "Item_MRP                      float64\n",
      "Outlet_Identifier            category\n",
      "Outlet_Establishment_Year    category\n",
      "Outlet_Size                  category\n",
      "Outlet_Location_Type         category\n",
      "Outlet_Type                  category\n",
      "Item_Outlet_Sales             float64\n",
      "dtype: object\n"
     ]
    }
   ],
   "source": [
    "# Converting non-numeric labeled column into categorical column\n",
    "sales_df_c['Item_Fat_Content']=sales_df_c['Item_Fat_Content'].astype('category')\n",
    "sales_df_c['Item_Type']=sales_df_c['Item_Type'].astype('category')\n",
    "sales_df_c['Outlet_Identifier']=sales_df_c['Outlet_Identifier'].astype('category')\n",
    "sales_df_c['Outlet_Establishment_Year']=sales_df_c['Outlet_Establishment_Year'].astype('category')\n",
    "sales_df_c['Outlet_Size']=sales_df_c['Outlet_Size'].astype('category')\n",
    "sales_df_c['Outlet_Location_Type']=sales_df_c['Outlet_Location_Type'].astype('category')\n",
    "sales_df_c['Outlet_Type']=sales_df_c['Outlet_Type'].astype('category')\n",
    "print(sales_df_c.head())\n",
    "\n",
    "print(sales_df_c.dtypes)"
   ]
  },
  {
   "cell_type": "code",
   "execution_count": 25,
   "id": "df2f551f",
   "metadata": {},
   "outputs": [
    {
     "data": {
      "text/plain": [
       "array([0, 1])"
      ]
     },
     "execution_count": 25,
     "metadata": {},
     "output_type": "execute_result"
    }
   ],
   "source": [
    "# Using Label Encoder technique to convert categorical column into numerical type\n",
    "\n",
    "#label_encoder object knows how to understand word labels.\n",
    "label_encoder = preprocessing.LabelEncoder()\n",
    "# Encode labels in column 'species'.\n",
    "sales_df_c['Item_Fat_Content_encode']= label_encoder.fit_transform(sales_df_c['Item_Fat_Content'])\n",
    " \n",
    "sales_df_c['Item_Fat_Content_encode'].unique()"
   ]
  },
  {
   "cell_type": "code",
   "execution_count": 26,
   "id": "20289ee8",
   "metadata": {},
   "outputs": [
    {
     "data": {
      "text/plain": [
       "array([ 4, 14, 10,  6,  9,  0, 13,  5,  2,  8,  7,  3,  1, 15, 11, 12])"
      ]
     },
     "execution_count": 26,
     "metadata": {},
     "output_type": "execute_result"
    }
   ],
   "source": [
    "# Using Label Encoder technique to convert categorical column into numerical type\n",
    "\n",
    "#label_encoder object knows how to understand word labels.\n",
    "label_encoder = preprocessing.LabelEncoder()\n",
    "# Encode labels in column 'species'.\n",
    "sales_df_c['Item_Type_encode']= label_encoder.fit_transform(sales_df_c['Item_Type'])\n",
    " \n",
    "sales_df_c['Item_Type_encode'].unique()"
   ]
  },
  {
   "cell_type": "code",
   "execution_count": 27,
   "id": "a6c212a4",
   "metadata": {},
   "outputs": [
    {
     "data": {
      "text/plain": [
       "array([9, 3, 0, 1, 5, 7, 2, 8, 6, 4])"
      ]
     },
     "execution_count": 27,
     "metadata": {},
     "output_type": "execute_result"
    }
   ],
   "source": [
    "# Using Label Encoder technique to convert categorical column into numerical type\n",
    "\n",
    "#label_encoder object knows how to understand word labels.\n",
    "label_encoder = preprocessing.LabelEncoder()\n",
    "# Encode labels in column 'species'.\n",
    "sales_df_c['Outlet_Identifier_encode']= label_encoder.fit_transform(sales_df_c['Outlet_Identifier'])\n",
    " \n",
    "sales_df_c['Outlet_Identifier_encode'].unique()"
   ]
  },
  {
   "cell_type": "code",
   "execution_count": 28,
   "id": "859b2f3d",
   "metadata": {},
   "outputs": [
    {
     "data": {
      "text/plain": [
       "array([4, 8, 3, 1, 0, 5, 7, 2, 6], dtype=int64)"
      ]
     },
     "execution_count": 28,
     "metadata": {},
     "output_type": "execute_result"
    }
   ],
   "source": [
    "# Using Label Encoder technique to convert categorical column into numerical type\n",
    "\n",
    "#label_encoder object knows how to understand word labels.\n",
    "label_encoder = preprocessing.LabelEncoder()\n",
    "# Encode labels in column 'species'.\n",
    "sales_df_c['Outlet_Establishment_Year_encode']= label_encoder.fit_transform(sales_df_c['Outlet_Establishment_Year'])\n",
    " \n",
    "sales_df_c['Outlet_Establishment_Year_encode'].unique()"
   ]
  },
  {
   "cell_type": "code",
   "execution_count": 29,
   "id": "6559e747",
   "metadata": {},
   "outputs": [
    {
     "data": {
      "text/plain": [
       "array([1, 0, 2])"
      ]
     },
     "execution_count": 29,
     "metadata": {},
     "output_type": "execute_result"
    }
   ],
   "source": [
    "# Using Label Encoder technique to convert categorical column into numerical type\n",
    "\n",
    "#label_encoder object knows how to understand word labels.\n",
    "label_encoder = preprocessing.LabelEncoder()\n",
    "# Encode labels in column 'species'.\n",
    "sales_df_c['Outlet_Size_encode']= label_encoder.fit_transform(sales_df_c['Outlet_Size'])\n",
    " \n",
    "sales_df_c['Outlet_Size_encode'].unique()"
   ]
  },
  {
   "cell_type": "code",
   "execution_count": 30,
   "id": "9beb4bd2",
   "metadata": {},
   "outputs": [
    {
     "data": {
      "text/plain": [
       "array([0, 2, 1])"
      ]
     },
     "execution_count": 30,
     "metadata": {},
     "output_type": "execute_result"
    }
   ],
   "source": [
    "# Using Label Encoder technique to convert categorical column into numerical type\n",
    "\n",
    "#label_encoder object knows how to understand word labels.\n",
    "label_encoder = preprocessing.LabelEncoder()\n",
    "# Encode labels in column 'species'.\n",
    "sales_df_c['Outlet_Location_Type_encode']= label_encoder.fit_transform(sales_df_c['Outlet_Location_Type'])\n",
    " \n",
    "sales_df_c['Outlet_Location_Type_encode'].unique()"
   ]
  },
  {
   "cell_type": "code",
   "execution_count": 31,
   "id": "942392f9",
   "metadata": {},
   "outputs": [
    {
     "data": {
      "text/plain": [
       "array([1, 2, 0, 3])"
      ]
     },
     "execution_count": 31,
     "metadata": {},
     "output_type": "execute_result"
    }
   ],
   "source": [
    "# Using Label Encoder technique to convert categorical column into numerical type\n",
    "\n",
    "#label_encoder object knows how to understand word labels.\n",
    "label_encoder = preprocessing.LabelEncoder()\n",
    "# Encode labels in column 'species'.\n",
    "sales_df_c['Outlet_Type_encode']= label_encoder.fit_transform(sales_df_c['Outlet_Type'])\n",
    " \n",
    "sales_df_c['Outlet_Type_encode'].unique()"
   ]
  },
  {
   "cell_type": "markdown",
   "id": "646e9b29",
   "metadata": {},
   "source": [
    "## Feature Scaling"
   ]
  },
  {
   "cell_type": "code",
   "execution_count": 32,
   "id": "689ad994",
   "metadata": {},
   "outputs": [],
   "source": [
    "# Defining method to perform data scaling operation based on the type of scaling\n",
    "def feature_scale(scale):\n",
    "    numerics = ['int16', 'int32', 'int64', 'float16', 'float32', 'float64']\n",
    "    new_sales_df_c = sales_df_c.select_dtypes(include=numerics)\n",
    "    if scale == 'minmax':\n",
    "        scaler = MinMaxScaler()\n",
    "    else:\n",
    "        scaler = StandardScaler()\n",
    "    df_scaled = pd.DataFrame(scaler.fit_transform(new_sales_df_c.to_numpy()),columns=new_sales_df_c.columns)\n",
    "    return df_scaled"
   ]
  },
  {
   "cell_type": "code",
   "execution_count": 33,
   "id": "16410a58",
   "metadata": {},
   "outputs": [
    {
     "data": {
      "text/html": [
       "<div>\n",
       "<style scoped>\n",
       "    .dataframe tbody tr th:only-of-type {\n",
       "        vertical-align: middle;\n",
       "    }\n",
       "\n",
       "    .dataframe tbody tr th {\n",
       "        vertical-align: top;\n",
       "    }\n",
       "\n",
       "    .dataframe thead th {\n",
       "        text-align: right;\n",
       "    }\n",
       "</style>\n",
       "<table border=\"1\" class=\"dataframe\">\n",
       "  <thead>\n",
       "    <tr style=\"text-align: right;\">\n",
       "      <th></th>\n",
       "      <th>Item_Weight</th>\n",
       "      <th>Item_Visibility</th>\n",
       "      <th>Item_MRP</th>\n",
       "      <th>Item_Outlet_Sales</th>\n",
       "      <th>Item_Fat_Content_encode</th>\n",
       "      <th>Item_Type_encode</th>\n",
       "      <th>Outlet_Identifier_encode</th>\n",
       "      <th>Outlet_Establishment_Year_encode</th>\n",
       "      <th>Outlet_Size_encode</th>\n",
       "      <th>Outlet_Location_Type_encode</th>\n",
       "      <th>Outlet_Type_encode</th>\n",
       "    </tr>\n",
       "  </thead>\n",
       "  <tbody>\n",
       "    <tr>\n",
       "      <th>0</th>\n",
       "      <td>0.282525</td>\n",
       "      <td>0.078088</td>\n",
       "      <td>0.927507</td>\n",
       "      <td>0.283587</td>\n",
       "      <td>0.0</td>\n",
       "      <td>0.266667</td>\n",
       "      <td>1.000000</td>\n",
       "      <td>0.500</td>\n",
       "      <td>0.5</td>\n",
       "      <td>0.0</td>\n",
       "      <td>0.333333</td>\n",
       "    </tr>\n",
       "    <tr>\n",
       "      <th>1</th>\n",
       "      <td>0.081274</td>\n",
       "      <td>0.098316</td>\n",
       "      <td>0.072068</td>\n",
       "      <td>0.031419</td>\n",
       "      <td>1.0</td>\n",
       "      <td>0.933333</td>\n",
       "      <td>0.333333</td>\n",
       "      <td>1.000</td>\n",
       "      <td>0.5</td>\n",
       "      <td>1.0</td>\n",
       "      <td>0.666667</td>\n",
       "    </tr>\n",
       "    <tr>\n",
       "      <th>2</th>\n",
       "      <td>0.770765</td>\n",
       "      <td>0.082551</td>\n",
       "      <td>0.468288</td>\n",
       "      <td>0.158115</td>\n",
       "      <td>0.0</td>\n",
       "      <td>0.666667</td>\n",
       "      <td>1.000000</td>\n",
       "      <td>0.500</td>\n",
       "      <td>0.5</td>\n",
       "      <td>0.0</td>\n",
       "      <td>0.333333</td>\n",
       "    </tr>\n",
       "    <tr>\n",
       "      <th>3</th>\n",
       "      <td>0.871986</td>\n",
       "      <td>0.443437</td>\n",
       "      <td>0.640093</td>\n",
       "      <td>0.053555</td>\n",
       "      <td>1.0</td>\n",
       "      <td>0.400000</td>\n",
       "      <td>0.000000</td>\n",
       "      <td>0.375</td>\n",
       "      <td>0.5</td>\n",
       "      <td>1.0</td>\n",
       "      <td>0.000000</td>\n",
       "    </tr>\n",
       "    <tr>\n",
       "      <th>4</th>\n",
       "      <td>0.260494</td>\n",
       "      <td>0.380182</td>\n",
       "      <td>0.095805</td>\n",
       "      <td>0.073651</td>\n",
       "      <td>0.0</td>\n",
       "      <td>0.600000</td>\n",
       "      <td>0.111111</td>\n",
       "      <td>0.125</td>\n",
       "      <td>0.0</td>\n",
       "      <td>1.0</td>\n",
       "      <td>0.333333</td>\n",
       "    </tr>\n",
       "    <tr>\n",
       "      <th>...</th>\n",
       "      <td>...</td>\n",
       "      <td>...</td>\n",
       "      <td>...</td>\n",
       "      <td>...</td>\n",
       "      <td>...</td>\n",
       "      <td>...</td>\n",
       "      <td>...</td>\n",
       "      <td>...</td>\n",
       "      <td>...</td>\n",
       "      <td>...</td>\n",
       "      <td>...</td>\n",
       "    </tr>\n",
       "    <tr>\n",
       "      <th>14199</th>\n",
       "      <td>0.353974</td>\n",
       "      <td>0.062118</td>\n",
       "      <td>0.467004</td>\n",
       "      <td>NaN</td>\n",
       "      <td>1.0</td>\n",
       "      <td>0.866667</td>\n",
       "      <td>0.888889</td>\n",
       "      <td>0.250</td>\n",
       "      <td>1.0</td>\n",
       "      <td>0.0</td>\n",
       "      <td>0.333333</td>\n",
       "    </tr>\n",
       "    <tr>\n",
       "      <th>14200</th>\n",
       "      <td>0.181304</td>\n",
       "      <td>0.872854</td>\n",
       "      <td>0.585126</td>\n",
       "      <td>NaN</td>\n",
       "      <td>1.0</td>\n",
       "      <td>1.000000</td>\n",
       "      <td>0.333333</td>\n",
       "      <td>1.000</td>\n",
       "      <td>0.5</td>\n",
       "      <td>1.0</td>\n",
       "      <td>0.666667</td>\n",
       "    </tr>\n",
       "    <tr>\n",
       "      <th>14201</th>\n",
       "      <td>0.324204</td>\n",
       "      <td>0.437966</td>\n",
       "      <td>0.371199</td>\n",
       "      <td>NaN</td>\n",
       "      <td>0.0</td>\n",
       "      <td>0.533333</td>\n",
       "      <td>0.777778</td>\n",
       "      <td>0.625</td>\n",
       "      <td>1.0</td>\n",
       "      <td>0.5</td>\n",
       "      <td>0.333333</td>\n",
       "    </tr>\n",
       "    <tr>\n",
       "      <th>14202</th>\n",
       "      <td>0.639774</td>\n",
       "      <td>0.382747</td>\n",
       "      <td>0.778154</td>\n",
       "      <td>NaN</td>\n",
       "      <td>1.0</td>\n",
       "      <td>0.200000</td>\n",
       "      <td>0.222222</td>\n",
       "      <td>0.875</td>\n",
       "      <td>1.0</td>\n",
       "      <td>0.5</td>\n",
       "      <td>0.333333</td>\n",
       "    </tr>\n",
       "    <tr>\n",
       "      <th>14203</th>\n",
       "      <td>0.294433</td>\n",
       "      <td>0.633249</td>\n",
       "      <td>0.205884</td>\n",
       "      <td>NaN</td>\n",
       "      <td>1.0</td>\n",
       "      <td>0.200000</td>\n",
       "      <td>0.777778</td>\n",
       "      <td>0.625</td>\n",
       "      <td>1.0</td>\n",
       "      <td>0.5</td>\n",
       "      <td>0.333333</td>\n",
       "    </tr>\n",
       "  </tbody>\n",
       "</table>\n",
       "<p>14204 rows × 11 columns</p>\n",
       "</div>"
      ],
      "text/plain": [
       "       Item_Weight  Item_Visibility  Item_MRP  Item_Outlet_Sales  \\\n",
       "0         0.282525         0.078088  0.927507           0.283587   \n",
       "1         0.081274         0.098316  0.072068           0.031419   \n",
       "2         0.770765         0.082551  0.468288           0.158115   \n",
       "3         0.871986         0.443437  0.640093           0.053555   \n",
       "4         0.260494         0.380182  0.095805           0.073651   \n",
       "...            ...              ...       ...                ...   \n",
       "14199     0.353974         0.062118  0.467004                NaN   \n",
       "14200     0.181304         0.872854  0.585126                NaN   \n",
       "14201     0.324204         0.437966  0.371199                NaN   \n",
       "14202     0.639774         0.382747  0.778154                NaN   \n",
       "14203     0.294433         0.633249  0.205884                NaN   \n",
       "\n",
       "       Item_Fat_Content_encode  Item_Type_encode  Outlet_Identifier_encode  \\\n",
       "0                          0.0          0.266667                  1.000000   \n",
       "1                          1.0          0.933333                  0.333333   \n",
       "2                          0.0          0.666667                  1.000000   \n",
       "3                          1.0          0.400000                  0.000000   \n",
       "4                          0.0          0.600000                  0.111111   \n",
       "...                        ...               ...                       ...   \n",
       "14199                      1.0          0.866667                  0.888889   \n",
       "14200                      1.0          1.000000                  0.333333   \n",
       "14201                      0.0          0.533333                  0.777778   \n",
       "14202                      1.0          0.200000                  0.222222   \n",
       "14203                      1.0          0.200000                  0.777778   \n",
       "\n",
       "       Outlet_Establishment_Year_encode  Outlet_Size_encode  \\\n",
       "0                                 0.500                 0.5   \n",
       "1                                 1.000                 0.5   \n",
       "2                                 0.500                 0.5   \n",
       "3                                 0.375                 0.5   \n",
       "4                                 0.125                 0.0   \n",
       "...                                 ...                 ...   \n",
       "14199                             0.250                 1.0   \n",
       "14200                             1.000                 0.5   \n",
       "14201                             0.625                 1.0   \n",
       "14202                             0.875                 1.0   \n",
       "14203                             0.625                 1.0   \n",
       "\n",
       "       Outlet_Location_Type_encode  Outlet_Type_encode  \n",
       "0                              0.0            0.333333  \n",
       "1                              1.0            0.666667  \n",
       "2                              0.0            0.333333  \n",
       "3                              1.0            0.000000  \n",
       "4                              1.0            0.333333  \n",
       "...                            ...                 ...  \n",
       "14199                          0.0            0.333333  \n",
       "14200                          1.0            0.666667  \n",
       "14201                          0.5            0.333333  \n",
       "14202                          0.5            0.333333  \n",
       "14203                          0.5            0.333333  \n",
       "\n",
       "[14204 rows x 11 columns]"
      ]
     },
     "execution_count": 33,
     "metadata": {},
     "output_type": "execute_result"
    }
   ],
   "source": [
    "# scaling the data using MinMax Scaling process\n",
    "scale = 'minmax' #standard\n",
    "sales_df_scaled=feature_scale(scale)\n",
    "sales_df_scaled"
   ]
  },
  {
   "cell_type": "code",
   "execution_count": 34,
   "id": "5fa00e3c",
   "metadata": {},
   "outputs": [
    {
     "data": {
      "text/html": [
       "<style type=\"text/css\">\n",
       "#T_3ffcc_row0_col0, #T_3ffcc_row1_col1, #T_3ffcc_row2_col2, #T_3ffcc_row3_col3, #T_3ffcc_row4_col4, #T_3ffcc_row5_col5, #T_3ffcc_row6_col6, #T_3ffcc_row7_col7, #T_3ffcc_row8_col8, #T_3ffcc_row9_col9, #T_3ffcc_row10_col10 {\n",
       "  background-color: #b40426;\n",
       "  color: #f1f1f1;\n",
       "}\n",
       "#T_3ffcc_row0_col1 {\n",
       "  background-color: #5b7ae5;\n",
       "  color: #f1f1f1;\n",
       "}\n",
       "#T_3ffcc_row0_col2 {\n",
       "  background-color: #465ecf;\n",
       "  color: #f1f1f1;\n",
       "}\n",
       "#T_3ffcc_row0_col3, #T_3ffcc_row2_col1, #T_3ffcc_row9_col7 {\n",
       "  background-color: #5e7de7;\n",
       "  color: #f1f1f1;\n",
       "}\n",
       "#T_3ffcc_row0_col4 {\n",
       "  background-color: #5977e3;\n",
       "  color: #f1f1f1;\n",
       "}\n",
       "#T_3ffcc_row0_col5 {\n",
       "  background-color: #6c8ff1;\n",
       "  color: #f1f1f1;\n",
       "}\n",
       "#T_3ffcc_row0_col6, #T_3ffcc_row4_col9, #T_3ffcc_row5_col9 {\n",
       "  background-color: #c6d6f1;\n",
       "  color: #000000;\n",
       "}\n",
       "#T_3ffcc_row0_col7, #T_3ffcc_row2_col7, #T_3ffcc_row4_col7 {\n",
       "  background-color: #516ddb;\n",
       "  color: #f1f1f1;\n",
       "}\n",
       "#T_3ffcc_row0_col8, #T_3ffcc_row8_col7 {\n",
       "  background-color: #b7cff9;\n",
       "  color: #000000;\n",
       "}\n",
       "#T_3ffcc_row0_col9, #T_3ffcc_row2_col6, #T_3ffcc_row2_col9, #T_3ffcc_row4_col6, #T_3ffcc_row5_col6 {\n",
       "  background-color: #c5d6f2;\n",
       "  color: #000000;\n",
       "}\n",
       "#T_3ffcc_row0_col10, #T_3ffcc_row5_col10, #T_3ffcc_row10_col8 {\n",
       "  background-color: #7ea1fa;\n",
       "  color: #f1f1f1;\n",
       "}\n",
       "#T_3ffcc_row1_col0 {\n",
       "  background-color: #3e51c5;\n",
       "  color: #f1f1f1;\n",
       "}\n",
       "#T_3ffcc_row1_col2, #T_3ffcc_row1_col3, #T_3ffcc_row1_col7, #T_3ffcc_row4_col0, #T_3ffcc_row4_col2, #T_3ffcc_row4_col5, #T_3ffcc_row5_col4, #T_3ffcc_row6_col9, #T_3ffcc_row8_col10, #T_3ffcc_row9_col6, #T_3ffcc_row9_col8, #T_3ffcc_row10_col1 {\n",
       "  background-color: #3b4cc0;\n",
       "  color: #f1f1f1;\n",
       "}\n",
       "#T_3ffcc_row1_col4, #T_3ffcc_row7_col10 {\n",
       "  background-color: #7295f4;\n",
       "  color: #f1f1f1;\n",
       "}\n",
       "#T_3ffcc_row1_col5 {\n",
       "  background-color: #5673e0;\n",
       "  color: #f1f1f1;\n",
       "}\n",
       "#T_3ffcc_row1_col6 {\n",
       "  background-color: #b5cdfa;\n",
       "  color: #000000;\n",
       "}\n",
       "#T_3ffcc_row1_col8 {\n",
       "  background-color: #bbd1f8;\n",
       "  color: #000000;\n",
       "}\n",
       "#T_3ffcc_row1_col9 {\n",
       "  background-color: #c3d5f4;\n",
       "  color: #000000;\n",
       "}\n",
       "#T_3ffcc_row1_col10 {\n",
       "  background-color: #5875e1;\n",
       "  color: #f1f1f1;\n",
       "}\n",
       "#T_3ffcc_row2_col0 {\n",
       "  background-color: #4f69d9;\n",
       "  color: #f1f1f1;\n",
       "}\n",
       "#T_3ffcc_row2_col3 {\n",
       "  background-color: #f3c8b2;\n",
       "  color: #000000;\n",
       "}\n",
       "#T_3ffcc_row2_col4, #T_3ffcc_row6_col4, #T_3ffcc_row7_col4, #T_3ffcc_row8_col4, #T_3ffcc_row8_col5, #T_3ffcc_row10_col4 {\n",
       "  background-color: #6282ea;\n",
       "  color: #f1f1f1;\n",
       "}\n",
       "#T_3ffcc_row2_col5 {\n",
       "  background-color: #6f92f3;\n",
       "  color: #f1f1f1;\n",
       "}\n",
       "#T_3ffcc_row2_col8, #T_3ffcc_row4_col8, #T_3ffcc_row5_col8 {\n",
       "  background-color: #b6cefa;\n",
       "  color: #000000;\n",
       "}\n",
       "#T_3ffcc_row2_col10, #T_3ffcc_row4_col10 {\n",
       "  background-color: #7da0f9;\n",
       "  color: #f1f1f1;\n",
       "}\n",
       "#T_3ffcc_row3_col0, #T_3ffcc_row6_col1, #T_3ffcc_row6_col7 {\n",
       "  background-color: #485fd1;\n",
       "  color: #f1f1f1;\n",
       "}\n",
       "#T_3ffcc_row3_col1 {\n",
       "  background-color: #4055c8;\n",
       "  color: #f1f1f1;\n",
       "}\n",
       "#T_3ffcc_row3_col2 {\n",
       "  background-color: #edd1c2;\n",
       "  color: #000000;\n",
       "}\n",
       "#T_3ffcc_row3_col4 {\n",
       "  background-color: #688aef;\n",
       "  color: #f1f1f1;\n",
       "}\n",
       "#T_3ffcc_row3_col5, #T_3ffcc_row8_col1 {\n",
       "  background-color: #6788ee;\n",
       "  color: #f1f1f1;\n",
       "}\n",
       "#T_3ffcc_row3_col6 {\n",
       "  background-color: #e0dbd8;\n",
       "  color: #000000;\n",
       "}\n",
       "#T_3ffcc_row3_col7, #T_3ffcc_row7_col1 {\n",
       "  background-color: #4a63d3;\n",
       "  color: #f1f1f1;\n",
       "}\n",
       "#T_3ffcc_row3_col8 {\n",
       "  background-color: #aac7fd;\n",
       "  color: #000000;\n",
       "}\n",
       "#T_3ffcc_row3_col9 {\n",
       "  background-color: #d5dbe5;\n",
       "  color: #000000;\n",
       "}\n",
       "#T_3ffcc_row3_col10 {\n",
       "  background-color: #e3d9d3;\n",
       "  color: #000000;\n",
       "}\n",
       "#T_3ffcc_row4_col1 {\n",
       "  background-color: #7093f3;\n",
       "  color: #f1f1f1;\n",
       "}\n",
       "#T_3ffcc_row4_col3, #T_3ffcc_row5_col3 {\n",
       "  background-color: #5f7fe8;\n",
       "  color: #f1f1f1;\n",
       "}\n",
       "#T_3ffcc_row5_col0 {\n",
       "  background-color: #4e68d8;\n",
       "  color: #f1f1f1;\n",
       "}\n",
       "#T_3ffcc_row5_col1 {\n",
       "  background-color: #5572df;\n",
       "  color: #f1f1f1;\n",
       "}\n",
       "#T_3ffcc_row5_col2, #T_3ffcc_row8_col3 {\n",
       "  background-color: #4961d2;\n",
       "  color: #f1f1f1;\n",
       "}\n",
       "#T_3ffcc_row5_col7, #T_3ffcc_row7_col3 {\n",
       "  background-color: #536edd;\n",
       "  color: #f1f1f1;\n",
       "}\n",
       "#T_3ffcc_row6_col0, #T_3ffcc_row10_col7 {\n",
       "  background-color: #455cce;\n",
       "  color: #f1f1f1;\n",
       "}\n",
       "#T_3ffcc_row6_col2, #T_3ffcc_row7_col2, #T_3ffcc_row8_col2, #T_3ffcc_row10_col2 {\n",
       "  background-color: #3c4ec2;\n",
       "  color: #f1f1f1;\n",
       "}\n",
       "#T_3ffcc_row6_col3 {\n",
       "  background-color: #8caffe;\n",
       "  color: #000000;\n",
       "}\n",
       "#T_3ffcc_row6_col5, #T_3ffcc_row7_col5, #T_3ffcc_row9_col4, #T_3ffcc_row9_col5, #T_3ffcc_row10_col5 {\n",
       "  background-color: #6384eb;\n",
       "  color: #f1f1f1;\n",
       "}\n",
       "#T_3ffcc_row6_col8 {\n",
       "  background-color: #f5c0a7;\n",
       "  color: #000000;\n",
       "}\n",
       "#T_3ffcc_row6_col10 {\n",
       "  background-color: #9abbff;\n",
       "  color: #000000;\n",
       "}\n",
       "#T_3ffcc_row7_col0, #T_3ffcc_row8_col0, #T_3ffcc_row10_col0 {\n",
       "  background-color: #445acc;\n",
       "  color: #f1f1f1;\n",
       "}\n",
       "#T_3ffcc_row7_col6 {\n",
       "  background-color: #c0d4f5;\n",
       "  color: #000000;\n",
       "}\n",
       "#T_3ffcc_row7_col8, #T_3ffcc_row9_col10 {\n",
       "  background-color: #eed0c0;\n",
       "  color: #000000;\n",
       "}\n",
       "#T_3ffcc_row7_col9 {\n",
       "  background-color: #cdd9ec;\n",
       "  color: #000000;\n",
       "}\n",
       "#T_3ffcc_row8_col6 {\n",
       "  background-color: #f7b89c;\n",
       "  color: #000000;\n",
       "}\n",
       "#T_3ffcc_row8_col9 {\n",
       "  background-color: #506bda;\n",
       "  color: #f1f1f1;\n",
       "}\n",
       "#T_3ffcc_row9_col0 {\n",
       "  background-color: #4358cb;\n",
       "  color: #f1f1f1;\n",
       "}\n",
       "#T_3ffcc_row9_col1 {\n",
       "  background-color: #5d7ce6;\n",
       "  color: #f1f1f1;\n",
       "}\n",
       "#T_3ffcc_row9_col2 {\n",
       "  background-color: #3d50c3;\n",
       "  color: #f1f1f1;\n",
       "}\n",
       "#T_3ffcc_row9_col3 {\n",
       "  background-color: #7597f6;\n",
       "  color: #f1f1f1;\n",
       "}\n",
       "#T_3ffcc_row10_col3 {\n",
       "  background-color: #d3dbe7;\n",
       "  color: #000000;\n",
       "}\n",
       "#T_3ffcc_row10_col6 {\n",
       "  background-color: #d6dce4;\n",
       "  color: #000000;\n",
       "}\n",
       "#T_3ffcc_row10_col9 {\n",
       "  background-color: #f7b093;\n",
       "  color: #000000;\n",
       "}\n",
       "</style>\n",
       "<table id=\"T_3ffcc\">\n",
       "  <thead>\n",
       "    <tr>\n",
       "      <th class=\"blank level0\" >&nbsp;</th>\n",
       "      <th id=\"T_3ffcc_level0_col0\" class=\"col_heading level0 col0\" >Item_Weight</th>\n",
       "      <th id=\"T_3ffcc_level0_col1\" class=\"col_heading level0 col1\" >Item_Visibility</th>\n",
       "      <th id=\"T_3ffcc_level0_col2\" class=\"col_heading level0 col2\" >Item_MRP</th>\n",
       "      <th id=\"T_3ffcc_level0_col3\" class=\"col_heading level0 col3\" >Item_Outlet_Sales</th>\n",
       "      <th id=\"T_3ffcc_level0_col4\" class=\"col_heading level0 col4\" >Item_Fat_Content_encode</th>\n",
       "      <th id=\"T_3ffcc_level0_col5\" class=\"col_heading level0 col5\" >Item_Type_encode</th>\n",
       "      <th id=\"T_3ffcc_level0_col6\" class=\"col_heading level0 col6\" >Outlet_Identifier_encode</th>\n",
       "      <th id=\"T_3ffcc_level0_col7\" class=\"col_heading level0 col7\" >Outlet_Establishment_Year_encode</th>\n",
       "      <th id=\"T_3ffcc_level0_col8\" class=\"col_heading level0 col8\" >Outlet_Size_encode</th>\n",
       "      <th id=\"T_3ffcc_level0_col9\" class=\"col_heading level0 col9\" >Outlet_Location_Type_encode</th>\n",
       "      <th id=\"T_3ffcc_level0_col10\" class=\"col_heading level0 col10\" >Outlet_Type_encode</th>\n",
       "    </tr>\n",
       "  </thead>\n",
       "  <tbody>\n",
       "    <tr>\n",
       "      <th id=\"T_3ffcc_level0_row0\" class=\"row_heading level0 row0\" >Item_Weight</th>\n",
       "      <td id=\"T_3ffcc_row0_col0\" class=\"data row0 col0\" >1.000000</td>\n",
       "      <td id=\"T_3ffcc_row0_col1\" class=\"data row0 col1\" >-0.019415</td>\n",
       "      <td id=\"T_3ffcc_row0_col2\" class=\"data row0 col2\" >0.035751</td>\n",
       "      <td id=\"T_3ffcc_row0_col3\" class=\"data row0 col3\" >0.013261</td>\n",
       "      <td id=\"T_3ffcc_row0_col4\" class=\"data row0 col4\" >-0.033737</td>\n",
       "      <td id=\"T_3ffcc_row0_col5\" class=\"data row0 col5\" >0.031884</td>\n",
       "      <td id=\"T_3ffcc_row0_col6\" class=\"data row0 col6\" >0.003002</td>\n",
       "      <td id=\"T_3ffcc_row0_col7\" class=\"data row0 col7\" >0.000301</td>\n",
       "      <td id=\"T_3ffcc_row0_col8\" class=\"data row0 col8\" >0.000944</td>\n",
       "      <td id=\"T_3ffcc_row0_col9\" class=\"data row0 col9\" >-0.001719</td>\n",
       "      <td id=\"T_3ffcc_row0_col10\" class=\"data row0 col10\" >0.001913</td>\n",
       "    </tr>\n",
       "    <tr>\n",
       "      <th id=\"T_3ffcc_level0_row1\" class=\"row_heading level0 row1\" >Item_Visibility</th>\n",
       "      <td id=\"T_3ffcc_row1_col0\" class=\"data row1 col0\" >-0.019415</td>\n",
       "      <td id=\"T_3ffcc_row1_col1\" class=\"data row1 col1\" >1.000000</td>\n",
       "      <td id=\"T_3ffcc_row1_col2\" class=\"data row1 col2\" >-0.007112</td>\n",
       "      <td id=\"T_3ffcc_row1_col3\" class=\"data row1 col3\" >-0.114122</td>\n",
       "      <td id=\"T_3ffcc_row1_col4\" class=\"data row1 col4\" >0.051529</td>\n",
       "      <td id=\"T_3ffcc_row1_col5\" class=\"data row1 col5\" >-0.040467</td>\n",
       "      <td id=\"T_3ffcc_row1_col6\" class=\"data row1 col6\" >-0.089478</td>\n",
       "      <td id=\"T_3ffcc_row1_col7\" class=\"data row1 col7\" >-0.081448</td>\n",
       "      <td id=\"T_3ffcc_row1_col8\" class=\"data row1 col8\" >0.022056</td>\n",
       "      <td id=\"T_3ffcc_row1_col9\" class=\"data row1 col9\" >-0.015031</td>\n",
       "      <td id=\"T_3ffcc_row1_col10\" class=\"data row1 col10\" >-0.139958</td>\n",
       "    </tr>\n",
       "    <tr>\n",
       "      <th id=\"T_3ffcc_level0_row2\" class=\"row_heading level0 row2\" >Item_MRP</th>\n",
       "      <td id=\"T_3ffcc_row2_col0\" class=\"data row2 col0\" >0.035751</td>\n",
       "      <td id=\"T_3ffcc_row2_col1\" class=\"data row2 col1\" >-0.007112</td>\n",
       "      <td id=\"T_3ffcc_row2_col2\" class=\"data row2 col2\" >1.000000</td>\n",
       "      <td id=\"T_3ffcc_row2_col3\" class=\"data row2 col3\" >0.567574</td>\n",
       "      <td id=\"T_3ffcc_row2_col4\" class=\"data row2 col4\" >-0.004019</td>\n",
       "      <td id=\"T_3ffcc_row2_col5\" class=\"data row2 col5\" >0.043948</td>\n",
       "      <td id=\"T_3ffcc_row2_col6\" class=\"data row2 col6\" >-0.000555</td>\n",
       "      <td id=\"T_3ffcc_row2_col7\" class=\"data row2 col7\" >0.000302</td>\n",
       "      <td id=\"T_3ffcc_row2_col8\" class=\"data row2 col8\" >-0.001305</td>\n",
       "      <td id=\"T_3ffcc_row2_col9\" class=\"data row2 col9\" >0.000838</td>\n",
       "      <td id=\"T_3ffcc_row2_col10\" class=\"data row2 col10\" >0.000136</td>\n",
       "    </tr>\n",
       "    <tr>\n",
       "      <th id=\"T_3ffcc_level0_row3\" class=\"row_heading level0 row3\" >Item_Outlet_Sales</th>\n",
       "      <td id=\"T_3ffcc_row3_col0\" class=\"data row3 col0\" >0.013261</td>\n",
       "      <td id=\"T_3ffcc_row3_col1\" class=\"data row3 col1\" >-0.114122</td>\n",
       "      <td id=\"T_3ffcc_row3_col2\" class=\"data row3 col2\" >0.567574</td>\n",
       "      <td id=\"T_3ffcc_row3_col3\" class=\"data row3 col3\" >1.000000</td>\n",
       "      <td id=\"T_3ffcc_row3_col4\" class=\"data row3 col4\" >0.018719</td>\n",
       "      <td id=\"T_3ffcc_row3_col5\" class=\"data row3 col5\" >0.017048</td>\n",
       "      <td id=\"T_3ffcc_row3_col6\" class=\"data row3 col6\" >0.162325</td>\n",
       "      <td id=\"T_3ffcc_row3_col7\" class=\"data row3 col7\" >-0.025525</td>\n",
       "      <td id=\"T_3ffcc_row3_col8\" class=\"data row3 col8\" >-0.060517</td>\n",
       "      <td id=\"T_3ffcc_row3_col9\" class=\"data row3 col9\" >0.089367</td>\n",
       "      <td id=\"T_3ffcc_row3_col10\" class=\"data row3 col10\" >0.401522</td>\n",
       "    </tr>\n",
       "    <tr>\n",
       "      <th id=\"T_3ffcc_level0_row4\" class=\"row_heading level0 row4\" >Item_Fat_Content_encode</th>\n",
       "      <td id=\"T_3ffcc_row4_col0\" class=\"data row4 col0\" >-0.033737</td>\n",
       "      <td id=\"T_3ffcc_row4_col1\" class=\"data row4 col1\" >0.051529</td>\n",
       "      <td id=\"T_3ffcc_row4_col2\" class=\"data row4 col2\" >-0.004019</td>\n",
       "      <td id=\"T_3ffcc_row4_col3\" class=\"data row4 col3\" >0.018719</td>\n",
       "      <td id=\"T_3ffcc_row4_col4\" class=\"data row4 col4\" >1.000000</td>\n",
       "      <td id=\"T_3ffcc_row4_col5\" class=\"data row4 col5\" >-0.147733</td>\n",
       "      <td id=\"T_3ffcc_row4_col6\" class=\"data row4 col6\" >-0.001095</td>\n",
       "      <td id=\"T_3ffcc_row4_col7\" class=\"data row4 col7\" >0.000142</td>\n",
       "      <td id=\"T_3ffcc_row4_col8\" class=\"data row4 col8\" >-0.000827</td>\n",
       "      <td id=\"T_3ffcc_row4_col9\" class=\"data row4 col9\" >0.001373</td>\n",
       "      <td id=\"T_3ffcc_row4_col10\" class=\"data row4 col10\" >-0.000228</td>\n",
       "    </tr>\n",
       "    <tr>\n",
       "      <th id=\"T_3ffcc_level0_row5\" class=\"row_heading level0 row5\" >Item_Type_encode</th>\n",
       "      <td id=\"T_3ffcc_row5_col0\" class=\"data row5 col0\" >0.031884</td>\n",
       "      <td id=\"T_3ffcc_row5_col1\" class=\"data row5 col1\" >-0.040467</td>\n",
       "      <td id=\"T_3ffcc_row5_col2\" class=\"data row5 col2\" >0.043948</td>\n",
       "      <td id=\"T_3ffcc_row5_col3\" class=\"data row5 col3\" >0.017048</td>\n",
       "      <td id=\"T_3ffcc_row5_col4\" class=\"data row5 col4\" >-0.147733</td>\n",
       "      <td id=\"T_3ffcc_row5_col5\" class=\"data row5 col5\" >1.000000</td>\n",
       "      <td id=\"T_3ffcc_row5_col6\" class=\"data row5 col6\" >0.001126</td>\n",
       "      <td id=\"T_3ffcc_row5_col7\" class=\"data row5 col7\" >0.003295</td>\n",
       "      <td id=\"T_3ffcc_row5_col8\" class=\"data row5 col8\" >-0.001080</td>\n",
       "      <td id=\"T_3ffcc_row5_col9\" class=\"data row5 col9\" >0.002083</td>\n",
       "      <td id=\"T_3ffcc_row5_col10\" class=\"data row5 col10\" >0.004305</td>\n",
       "    </tr>\n",
       "    <tr>\n",
       "      <th id=\"T_3ffcc_level0_row6\" class=\"row_heading level0 row6\" >Outlet_Identifier_encode</th>\n",
       "      <td id=\"T_3ffcc_row6_col0\" class=\"data row6 col0\" >0.003002</td>\n",
       "      <td id=\"T_3ffcc_row6_col1\" class=\"data row6 col1\" >-0.089478</td>\n",
       "      <td id=\"T_3ffcc_row6_col2\" class=\"data row6 col2\" >-0.000555</td>\n",
       "      <td id=\"T_3ffcc_row6_col3\" class=\"data row6 col3\" >0.162325</td>\n",
       "      <td id=\"T_3ffcc_row6_col4\" class=\"data row6 col4\" >-0.001095</td>\n",
       "      <td id=\"T_3ffcc_row6_col5\" class=\"data row6 col5\" >0.001126</td>\n",
       "      <td id=\"T_3ffcc_row6_col6\" class=\"data row6 col6\" >1.000000</td>\n",
       "      <td id=\"T_3ffcc_row6_col7\" class=\"data row6 col7\" >-0.030948</td>\n",
       "      <td id=\"T_3ffcc_row6_col8\" class=\"data row6 col8\" >0.423623</td>\n",
       "      <td id=\"T_3ffcc_row6_col9\" class=\"data row6 col9\" >-0.716151</td>\n",
       "      <td id=\"T_3ffcc_row6_col10\" class=\"data row6 col10\" >0.099899</td>\n",
       "    </tr>\n",
       "    <tr>\n",
       "      <th id=\"T_3ffcc_level0_row7\" class=\"row_heading level0 row7\" >Outlet_Establishment_Year_encode</th>\n",
       "      <td id=\"T_3ffcc_row7_col0\" class=\"data row7 col0\" >0.000301</td>\n",
       "      <td id=\"T_3ffcc_row7_col1\" class=\"data row7 col1\" >-0.081448</td>\n",
       "      <td id=\"T_3ffcc_row7_col2\" class=\"data row7 col2\" >0.000302</td>\n",
       "      <td id=\"T_3ffcc_row7_col3\" class=\"data row7 col3\" >-0.025525</td>\n",
       "      <td id=\"T_3ffcc_row7_col4\" class=\"data row7 col4\" >0.000142</td>\n",
       "      <td id=\"T_3ffcc_row7_col5\" class=\"data row7 col5\" >0.003295</td>\n",
       "      <td id=\"T_3ffcc_row7_col6\" class=\"data row7 col6\" >-0.030948</td>\n",
       "      <td id=\"T_3ffcc_row7_col7\" class=\"data row7 col7\" >1.000000</td>\n",
       "      <td id=\"T_3ffcc_row7_col8\" class=\"data row7 col8\" >0.323491</td>\n",
       "      <td id=\"T_3ffcc_row7_col9\" class=\"data row7 col9\" >0.041889</td>\n",
       "      <td id=\"T_3ffcc_row7_col10\" class=\"data row7 col10\" >-0.040255</td>\n",
       "    </tr>\n",
       "    <tr>\n",
       "      <th id=\"T_3ffcc_level0_row8\" class=\"row_heading level0 row8\" >Outlet_Size_encode</th>\n",
       "      <td id=\"T_3ffcc_row8_col0\" class=\"data row8 col0\" >0.000944</td>\n",
       "      <td id=\"T_3ffcc_row8_col1\" class=\"data row8 col1\" >0.022056</td>\n",
       "      <td id=\"T_3ffcc_row8_col2\" class=\"data row8 col2\" >-0.001305</td>\n",
       "      <td id=\"T_3ffcc_row8_col3\" class=\"data row8 col3\" >-0.060517</td>\n",
       "      <td id=\"T_3ffcc_row8_col4\" class=\"data row8 col4\" >-0.000827</td>\n",
       "      <td id=\"T_3ffcc_row8_col5\" class=\"data row8 col5\" >-0.001080</td>\n",
       "      <td id=\"T_3ffcc_row8_col6\" class=\"data row8 col6\" >0.423623</td>\n",
       "      <td id=\"T_3ffcc_row8_col7\" class=\"data row8 col7\" >0.323491</td>\n",
       "      <td id=\"T_3ffcc_row8_col8\" class=\"data row8 col8\" >1.000000</td>\n",
       "      <td id=\"T_3ffcc_row8_col9\" class=\"data row8 col9\" >-0.590677</td>\n",
       "      <td id=\"T_3ffcc_row8_col10\" class=\"data row8 col10\" >-0.260496</td>\n",
       "    </tr>\n",
       "    <tr>\n",
       "      <th id=\"T_3ffcc_level0_row9\" class=\"row_heading level0 row9\" >Outlet_Location_Type_encode</th>\n",
       "      <td id=\"T_3ffcc_row9_col0\" class=\"data row9 col0\" >-0.001719</td>\n",
       "      <td id=\"T_3ffcc_row9_col1\" class=\"data row9 col1\" >-0.015031</td>\n",
       "      <td id=\"T_3ffcc_row9_col2\" class=\"data row9 col2\" >0.000838</td>\n",
       "      <td id=\"T_3ffcc_row9_col3\" class=\"data row9 col3\" >0.089367</td>\n",
       "      <td id=\"T_3ffcc_row9_col4\" class=\"data row9 col4\" >0.001373</td>\n",
       "      <td id=\"T_3ffcc_row9_col5\" class=\"data row9 col5\" >0.002083</td>\n",
       "      <td id=\"T_3ffcc_row9_col6\" class=\"data row9 col6\" >-0.716151</td>\n",
       "      <td id=\"T_3ffcc_row9_col7\" class=\"data row9 col7\" >0.041889</td>\n",
       "      <td id=\"T_3ffcc_row9_col8\" class=\"data row9 col8\" >-0.590677</td>\n",
       "      <td id=\"T_3ffcc_row9_col9\" class=\"data row9 col9\" >1.000000</td>\n",
       "      <td id=\"T_3ffcc_row9_col10\" class=\"data row9 col10\" >0.467251</td>\n",
       "    </tr>\n",
       "    <tr>\n",
       "      <th id=\"T_3ffcc_level0_row10\" class=\"row_heading level0 row10\" >Outlet_Type_encode</th>\n",
       "      <td id=\"T_3ffcc_row10_col0\" class=\"data row10 col0\" >0.001913</td>\n",
       "      <td id=\"T_3ffcc_row10_col1\" class=\"data row10 col1\" >-0.139958</td>\n",
       "      <td id=\"T_3ffcc_row10_col2\" class=\"data row10 col2\" >0.000136</td>\n",
       "      <td id=\"T_3ffcc_row10_col3\" class=\"data row10 col3\" >0.401522</td>\n",
       "      <td id=\"T_3ffcc_row10_col4\" class=\"data row10 col4\" >-0.000228</td>\n",
       "      <td id=\"T_3ffcc_row10_col5\" class=\"data row10 col5\" >0.004305</td>\n",
       "      <td id=\"T_3ffcc_row10_col6\" class=\"data row10 col6\" >0.099899</td>\n",
       "      <td id=\"T_3ffcc_row10_col7\" class=\"data row10 col7\" >-0.040255</td>\n",
       "      <td id=\"T_3ffcc_row10_col8\" class=\"data row10 col8\" >-0.260496</td>\n",
       "      <td id=\"T_3ffcc_row10_col9\" class=\"data row10 col9\" >0.467251</td>\n",
       "      <td id=\"T_3ffcc_row10_col10\" class=\"data row10 col10\" >1.000000</td>\n",
       "    </tr>\n",
       "  </tbody>\n",
       "</table>\n"
      ],
      "text/plain": [
       "<pandas.io.formats.style.Styler at 0x16d8cc04970>"
      ]
     },
     "execution_count": 34,
     "metadata": {},
     "output_type": "execute_result"
    }
   ],
   "source": [
    "# Finding correlation among numerical features, based on their strong relation we can choose the important features\n",
    "corr=sales_df_scaled.corr()\n",
    "corr.style.background_gradient(cmap='coolwarm')"
   ]
  },
  {
   "cell_type": "code",
   "execution_count": 35,
   "id": "8d6d28fb",
   "metadata": {},
   "outputs": [
    {
     "data": {
      "image/png": "[encoded data removed]",
      "text/plain": [
       "<Figure size 432x288 with 2 Axes>"
      ]
     },
     "metadata": {
      "needs_background": "light"
     },
     "output_type": "display_data"
    }
   ],
   "source": [
    "new_df_scaled=sales_df_scaled[['Item_Visibility','Item_MRP','Outlet_Identifier_encode','Outlet_Type_encode']]\n",
    "hm = sns.heatmap(new_df_scaled.corr(), annot = True)\n",
    "hm.set(xlabel='\\nCharges Details', ylabel='Charges Details', title = \"Correlation matrix of Insurance Data\\n\")\n",
    "plt.show()"
   ]
  },
  {
   "cell_type": "markdown",
   "id": "e23c0da3",
   "metadata": {},
   "source": [
    "#### Data Visualization to present the data"
   ]
  },
  {
   "cell_type": "code",
   "execution_count": 36,
   "id": "26923779",
   "metadata": {},
   "outputs": [
    {
     "data": {
      "image/png": "[encoded data removed]",
      "text/plain": [
       "<Figure size 1440x720 with 15 Axes>"
      ]
     },
     "metadata": {
      "needs_background": "light"
     },
     "output_type": "display_data"
    }
   ],
   "source": [
    "# Histogram of all numerical features\n",
    "\n",
    "numerics = ['int16', 'int32', 'int64', 'float16', 'float32', 'float64']\n",
    "\n",
    "new_df = sales_df_c.select_dtypes(include=numerics)\n",
    "numeric_cols=sales_df_c.columns\n",
    "num_cols=5\n",
    "n_bins = 20\n",
    "\n",
    "# compute number of rows for plot \n",
    "num_rows= int(len(numeric_cols)/num_cols)\n",
    "\n",
    "# setting canvas for plotting\n",
    "fig, axs = plt.subplots(num_rows, num_cols, tight_layout=True,figsize=(20,10))\n",
    "\n",
    "# plotting the numerical columns\n",
    "for col, ax in zip(numeric_cols,axs.flatten()[:len(numeric_cols)]):\n",
    "    ax.hist(sales_df_c[col],bins=n_bins,density=True)\n",
    "    ax.set_title(col)\n",
    "\n",
    "plt.show()"
   ]
  },
  {
   "cell_type": "code",
   "execution_count": 37,
   "id": "18c28588",
   "metadata": {},
   "outputs": [
    {
     "data": {
      "image/png": "[encoded data removed]",
      "text/plain": [
       "<Figure size 1440x360 with 6 Axes>"
      ]
     },
     "metadata": {
      "needs_background": "light"
     },
     "output_type": "display_data"
    }
   ],
   "source": [
    "# Histogram of all categorical features\n",
    "num_cols = 3\n",
    "cat_sal = sales_df_c.select_dtypes('category')\n",
    "categorical_cols=cat_sal.columns\n",
    "# compute number of rows for plot \n",
    "num_rows= int(len(categorical_cols)/num_cols)\n",
    "\n",
    "# setting canvas for plotting\n",
    "fig, axs = plt.subplots(num_rows, num_cols, tight_layout=True,figsize=(20,5))\n",
    "\n",
    "# plotting the numerical columns\n",
    "for col, ax in zip(categorical_cols,axs.flatten()[:len(categorical_cols)]):\n",
    "    stats = cat_sal[col].value_counts()\n",
    "    values = list(stats)\n",
    "    names = list(map(lambda x : ''.join(('value_',str(x))),list(stats.index)))\n",
    "    ax.bar(names,values)\n",
    "    ax.set_title(col)\n",
    "    \n",
    "plt.show()"
   ]
  },
  {
   "cell_type": "markdown",
   "id": "6ea513e3",
   "metadata": {},
   "source": [
    "### Splitting data into train and test"
   ]
  },
  {
   "cell_type": "code",
   "execution_count": 38,
   "id": "4bbadf17",
   "metadata": {},
   "outputs": [],
   "source": [
    "train=sales_df_scaled[~sales_df_scaled['Item_Outlet_Sales'].isnull()]"
   ]
  },
  {
   "cell_type": "code",
   "execution_count": 116,
   "id": "d582b825-da10-441f-bbe9-30cfc2f8ca35",
   "metadata": {},
   "outputs": [],
   "source": [
    "train1=sales_df[~sales_df['Item_Outlet_Sales'].isnull()]"
   ]
  },
  {
   "cell_type": "code",
   "execution_count": null,
   "id": "6065a56b-b061-4c81-9d30-8008b789469b",
   "metadata": {},
   "outputs": [],
   "source": []
  },
  {
   "cell_type": "code",
   "execution_count": 39,
   "id": "4ba15edb",
   "metadata": {},
   "outputs": [],
   "source": [
    "test=sales_df_scaled[sales_df_scaled['Item_Outlet_Sales'].isnull()]"
   ]
  },
  {
   "cell_type": "code",
   "execution_count": 40,
   "id": "ceb72adf",
   "metadata": {},
   "outputs": [
    {
     "data": {
      "text/html": [
       "<div>\n",
       "<style scoped>\n",
       "    .dataframe tbody tr th:only-of-type {\n",
       "        vertical-align: middle;\n",
       "    }\n",
       "\n",
       "    .dataframe tbody tr th {\n",
       "        vertical-align: top;\n",
       "    }\n",
       "\n",
       "    .dataframe thead th {\n",
       "        text-align: right;\n",
       "    }\n",
       "</style>\n",
       "<table border=\"1\" class=\"dataframe\">\n",
       "  <thead>\n",
       "    <tr style=\"text-align: right;\">\n",
       "      <th></th>\n",
       "      <th>Item_Weight</th>\n",
       "      <th>Item_Visibility</th>\n",
       "      <th>Item_MRP</th>\n",
       "      <th>Item_Outlet_Sales</th>\n",
       "      <th>Item_Fat_Content_encode</th>\n",
       "      <th>Item_Type_encode</th>\n",
       "      <th>Outlet_Identifier_encode</th>\n",
       "      <th>Outlet_Establishment_Year_encode</th>\n",
       "      <th>Outlet_Size_encode</th>\n",
       "      <th>Outlet_Location_Type_encode</th>\n",
       "      <th>Outlet_Type_encode</th>\n",
       "    </tr>\n",
       "  </thead>\n",
       "  <tbody>\n",
       "    <tr>\n",
       "      <th>0</th>\n",
       "      <td>0.282525</td>\n",
       "      <td>0.078088</td>\n",
       "      <td>0.927507</td>\n",
       "      <td>0.283587</td>\n",
       "      <td>0.0</td>\n",
       "      <td>0.266667</td>\n",
       "      <td>1.000000</td>\n",
       "      <td>0.500</td>\n",
       "      <td>0.5</td>\n",
       "      <td>0.0</td>\n",
       "      <td>0.333333</td>\n",
       "    </tr>\n",
       "    <tr>\n",
       "      <th>1</th>\n",
       "      <td>0.081274</td>\n",
       "      <td>0.098316</td>\n",
       "      <td>0.072068</td>\n",
       "      <td>0.031419</td>\n",
       "      <td>1.0</td>\n",
       "      <td>0.933333</td>\n",
       "      <td>0.333333</td>\n",
       "      <td>1.000</td>\n",
       "      <td>0.5</td>\n",
       "      <td>1.0</td>\n",
       "      <td>0.666667</td>\n",
       "    </tr>\n",
       "    <tr>\n",
       "      <th>2</th>\n",
       "      <td>0.770765</td>\n",
       "      <td>0.082551</td>\n",
       "      <td>0.468288</td>\n",
       "      <td>0.158115</td>\n",
       "      <td>0.0</td>\n",
       "      <td>0.666667</td>\n",
       "      <td>1.000000</td>\n",
       "      <td>0.500</td>\n",
       "      <td>0.5</td>\n",
       "      <td>0.0</td>\n",
       "      <td>0.333333</td>\n",
       "    </tr>\n",
       "    <tr>\n",
       "      <th>3</th>\n",
       "      <td>0.871986</td>\n",
       "      <td>0.443437</td>\n",
       "      <td>0.640093</td>\n",
       "      <td>0.053555</td>\n",
       "      <td>1.0</td>\n",
       "      <td>0.400000</td>\n",
       "      <td>0.000000</td>\n",
       "      <td>0.375</td>\n",
       "      <td>0.5</td>\n",
       "      <td>1.0</td>\n",
       "      <td>0.000000</td>\n",
       "    </tr>\n",
       "    <tr>\n",
       "      <th>4</th>\n",
       "      <td>0.260494</td>\n",
       "      <td>0.380182</td>\n",
       "      <td>0.095805</td>\n",
       "      <td>0.073651</td>\n",
       "      <td>0.0</td>\n",
       "      <td>0.600000</td>\n",
       "      <td>0.111111</td>\n",
       "      <td>0.125</td>\n",
       "      <td>0.0</td>\n",
       "      <td>1.0</td>\n",
       "      <td>0.333333</td>\n",
       "    </tr>\n",
       "  </tbody>\n",
       "</table>\n",
       "</div>"
      ],
      "text/plain": [
       "   Item_Weight  Item_Visibility  Item_MRP  Item_Outlet_Sales  \\\n",
       "0     0.282525         0.078088  0.927507           0.283587   \n",
       "1     0.081274         0.098316  0.072068           0.031419   \n",
       "2     0.770765         0.082551  0.468288           0.158115   \n",
       "3     0.871986         0.443437  0.640093           0.053555   \n",
       "4     0.260494         0.380182  0.095805           0.073651   \n",
       "\n",
       "   Item_Fat_Content_encode  Item_Type_encode  Outlet_Identifier_encode  \\\n",
       "0                      0.0          0.266667                  1.000000   \n",
       "1                      1.0          0.933333                  0.333333   \n",
       "2                      0.0          0.666667                  1.000000   \n",
       "3                      1.0          0.400000                  0.000000   \n",
       "4                      0.0          0.600000                  0.111111   \n",
       "\n",
       "   Outlet_Establishment_Year_encode  Outlet_Size_encode  \\\n",
       "0                             0.500                 0.5   \n",
       "1                             1.000                 0.5   \n",
       "2                             0.500                 0.5   \n",
       "3                             0.375                 0.5   \n",
       "4                             0.125                 0.0   \n",
       "\n",
       "   Outlet_Location_Type_encode  Outlet_Type_encode  \n",
       "0                          0.0            0.333333  \n",
       "1                          1.0            0.666667  \n",
       "2                          0.0            0.333333  \n",
       "3                          1.0            0.000000  \n",
       "4                          1.0            0.333333  "
      ]
     },
     "execution_count": 40,
     "metadata": {},
     "output_type": "execute_result"
    }
   ],
   "source": [
    "train.head()"
   ]
  },
  {
   "cell_type": "code",
   "execution_count": 117,
   "id": "472c67a0",
   "metadata": {},
   "outputs": [],
   "source": [
    "X=train.loc[:,train.columns!='Item_Outlet_Sales']\n",
    "y=train1['Item_Outlet_Sales']"
   ]
  },
  {
   "cell_type": "markdown",
   "id": "85805277",
   "metadata": {},
   "source": [
    "## Create the regression"
   ]
  },
  {
   "cell_type": "code",
   "execution_count": 118,
   "id": "6a47b668",
   "metadata": {},
   "outputs": [
    {
     "data": {
      "text/plain": [
       "LinearRegression()"
      ]
     },
     "execution_count": 118,
     "metadata": {},
     "output_type": "execute_result"
    }
   ],
   "source": [
    "# Create a linear regression object\n",
    "reg = LinearRegression()\n",
    "# Fit the regression with the scaled TRAIN inputs and targets\n",
    "reg.fit(X,y)"
   ]
  },
  {
   "cell_type": "code",
   "execution_count": 119,
   "id": "0b3594d9",
   "metadata": {},
   "outputs": [
    {
     "name": "stdout",
     "output_type": "stream",
     "text": [
      "coefficient of determination: 0.5015654624769805\n",
      "intercept: -531.3381495351077\n",
      "slope: [  -9.23111267 -282.64297806 3666.2624538    58.41059477  -12.72036542\n",
      "  494.64440205  -18.99846625  -99.86981762 -193.73594853 2590.83244266]\n"
     ]
    }
   ],
   "source": [
    "c_r_sq=reg.score(X, y)\n",
    "print('coefficient of determination:', c_r_sq)\n",
    "print('intercept:', reg.intercept_)\n",
    "print('slope:', reg.coef_)"
   ]
  },
  {
   "cell_type": "code",
   "execution_count": 123,
   "id": "5826eac4-6988-4a1e-8607-60efe3950e44",
   "metadata": {},
   "outputs": [
    {
     "data": {
      "text/plain": [
       "0.5230853025545152"
      ]
     },
     "execution_count": 123,
     "metadata": {},
     "output_type": "execute_result"
    }
   ],
   "source": [
    "model.score(X,y)"
   ]
  },
  {
   "cell_type": "code",
   "execution_count": 124,
   "id": "cd0ae156-5b52-420b-bf88-9fc02fe78ef0",
   "metadata": {},
   "outputs": [
    {
     "data": {
      "text/plain": [
       "array([4139.89635876, 1380.31689973, 2445.42349062, ..., 1222.71590771,\n",
       "       2011.35821562, 1264.20441711])"
      ]
     },
     "execution_count": 124,
     "metadata": {},
     "output_type": "execute_result"
    }
   ],
   "source": [
    "predict=reg.predict(X)\n",
    "predict"
   ]
  },
  {
   "cell_type": "code",
   "execution_count": 125,
   "id": "6b001bf1-aba1-4903-89b8-2b1a50a8df8f",
   "metadata": {},
   "outputs": [],
   "source": [
    "mse=mean_squared_error(y,predict)\n",
    "mae=mean_absolute_error(y,predict)\n",
    "rmse=mean_squared_error(y,predict,squared=False)"
   ]
  },
  {
   "cell_type": "code",
   "execution_count": 126,
   "id": "ca5a6402-4688-4666-aa81-73fb5c06eee6",
   "metadata": {},
   "outputs": [
    {
     "name": "stdout",
     "output_type": "stream",
     "text": [
      " Mean squared error is 1451341.316636 \n",
      " Mean absolute error is 905.876023 \n",
      " Root mean square error is 1204.716281\n"
     ]
    }
   ],
   "source": [
    "print(\" Mean squared error is %f \\n Mean absolute error is %f \\n Root mean square error is %f\" %(mse,mae,rmse))"
   ]
  },
  {
   "cell_type": "markdown",
   "id": "f0e29744-8150-44f4-bf79-916cce909a12",
   "metadata": {},
   "source": [
    "#### Model - Decision tree"
   ]
  },
  {
   "cell_type": "markdown",
   "id": "a5f38f69-71dc-485d-9c3b-fdafed1af0f9",
   "metadata": {},
   "source": [
    "#### 3. Modeling - Decision Tree\n",
    "\n",
    "a) Apply data splitting into train and test.\n",
    "\n",
    "b) Apply Train Decision Tree Regressor.\n",
    "\n",
    "Predict the outcome for test data.\n",
    "\n",
    "Calculate the accuracy of the training dataset.\n",
    "\n",
    "c) Identify the accuracy of the model on the test data.\n",
    "\n"
   ]
  },
  {
   "cell_type": "code",
   "execution_count": 127,
   "id": "16d79fca-3c69-49c1-b4ba-ab6acc0bbc66",
   "metadata": {},
   "outputs": [],
   "source": [
    "from sklearn import metrics\n",
    "from sklearn import preprocessing\n",
    "from sklearn.tree import DecisionTreeRegressor\n",
    "from sklearn.model_selection import GridSearchCV, cross_val_score, cross_val_predict, train_test_split\n",
    "from sklearn import tree"
   ]
  },
  {
   "cell_type": "code",
   "execution_count": 128,
   "id": "76150cdc-e18c-40f3-86a4-887c68662485",
   "metadata": {},
   "outputs": [
    {
     "name": "stdout",
     "output_type": "stream",
     "text": [
      "R-Squared on train dataset=0.5843936981220916\n"
     ]
    }
   ],
   "source": [
    "dtm = DecisionTreeRegressor(max_depth=4,\n",
    "                           min_samples_split=5,\n",
    "                           max_leaf_nodes=10)\n",
    "\n",
    "dtm.fit(X,y)\n",
    "print(\"R-Squared on train dataset={}\".format(dtm.score(X,y)))\n",
    "\n"
   ]
  },
  {
   "cell_type": "code",
   "execution_count": 129,
   "id": "3e6cf66a-b66c-4173-a866-174d3975506d",
   "metadata": {},
   "outputs": [
    {
     "name": "stdout",
     "output_type": "stream",
     "text": [
      "MSE= 1210162.1215238227 \n",
      "RMSE= 1100.0736891335155\n"
     ]
    }
   ],
   "source": [
    "from sklearn.metrics import mean_squared_error\n",
    "from sklearn.metrics import mean_absolute_error\n",
    "MSE=mean_squared_error(y, dtm.predict(X))\n",
    "RMSE = mean_squared_error(y,dtm.predict(X), squared=False)\n",
    "print('MSE=',MSE,'\\nRMSE=', RMSE)"
   ]
  },
  {
   "cell_type": "markdown",
   "id": "876c8f3e-2d46-4c61-ab9d-56245afd5dda",
   "metadata": {},
   "source": [
    "#### random forest "
   ]
  },
  {
   "cell_type": "code",
   "execution_count": null,
   "id": "01d053fc-61ab-401c-98aa-fc7280ebbb8c",
   "metadata": {},
   "outputs": [],
   "source": []
  },
  {
   "cell_type": "code",
   "execution_count": 130,
   "id": "90561a07-d7da-4791-babe-9c4360fb154f",
   "metadata": {},
   "outputs": [],
   "source": [
    "from sklearn.model_selection import cross_val_score\n",
    "from sklearn.model_selection import RepeatedStratifiedKFold\n",
    "from sklearn.ensemble import RandomForestRegressor\n",
    "from sklearn.model_selection import train_test_split\n",
    "from sklearn.model_selection import GridSearchCV\n",
    "from sklearn.tree import plot_tree\n",
    "from sklearn.preprocessing import LabelEncoder"
   ]
  },
  {
   "cell_type": "code",
   "execution_count": 131,
   "id": "fc6bbffa-9d63-429d-a10d-af077df0334c",
   "metadata": {},
   "outputs": [],
   "source": [
    "rm_model = RandomForestRegressor()\n"
   ]
  },
  {
   "cell_type": "code",
   "execution_count": 132,
   "id": "43335608-c756-45c2-a4cd-e252513c68dd",
   "metadata": {},
   "outputs": [],
   "source": [
    "rm_model=rm_model.fit(X,y)"
   ]
  },
  {
   "cell_type": "code",
   "execution_count": 133,
   "id": "e88683bd-6fbc-4959-ba99-8efc4b884f1d",
   "metadata": {},
   "outputs": [],
   "source": [
    "rm_model=rm_model.fit(X,y)"
   ]
  },
  {
   "cell_type": "code",
   "execution_count": 134,
   "id": "22c40540-61fc-46aa-b45d-2938606af8f8",
   "metadata": {},
   "outputs": [],
   "source": [
    "rm_score=rm_model.score(X,y)"
   ]
  },
  {
   "cell_type": "code",
   "execution_count": 135,
   "id": "505a4449-8f09-4620-873b-7aea209a4eed",
   "metadata": {},
   "outputs": [
    {
     "name": "stdout",
     "output_type": "stream",
     "text": [
      "The score of Random forest model is  0.9385059927193397\n"
     ]
    }
   ],
   "source": [
    "print(\"The score of Random forest model is \",rm_score)"
   ]
  },
  {
   "cell_type": "code",
   "execution_count": 136,
   "id": "75385b42-e62e-4b28-a32b-247b013e7332",
   "metadata": {},
   "outputs": [
    {
     "data": {
      "text/plain": [
       "array([4254.149074,  589.03326 , 2159.502326, ..., 1185.929618,\n",
       "       1742.578366,  939.903202])"
      ]
     },
     "execution_count": 136,
     "metadata": {},
     "output_type": "execute_result"
    }
   ],
   "source": [
    "predict=rm_model.predict(X)\n",
    "predict"
   ]
  },
  {
   "cell_type": "markdown",
   "id": "60afe0b9-9e88-42fc-8ebd-fabd537987a0",
   "metadata": {},
   "source": [
    "#### Adaboosting"
   ]
  },
  {
   "cell_type": "code",
   "execution_count": 93,
   "id": "e3573fd9-ed1e-45a9-ae10-1a05633be7ff",
   "metadata": {},
   "outputs": [],
   "source": [
    "from sklearn.ensemble import AdaBoostRegressor"
   ]
  },
  {
   "cell_type": "code",
   "execution_count": 94,
   "id": "3779a6ff-550e-40ab-985d-5fd7ab24c355",
   "metadata": {},
   "outputs": [],
   "source": [
    "# define the model\n",
    "model = AdaBoostRegressor()\n",
    "\n",
    "# evaluate the model\n",
    "adamodel=model.fit(X,y)"
   ]
  },
  {
   "cell_type": "code",
   "execution_count": 139,
   "id": "86d7beb7-3f30-46af-aee1-4456d9e5b85c",
   "metadata": {},
   "outputs": [],
   "source": [
    "ada_y_predict=adamodel.predict(X)"
   ]
  },
  {
   "cell_type": "code",
   "execution_count": 142,
   "id": "89ad1be1-e64e-445c-91fd-ab98f3621241",
   "metadata": {},
   "outputs": [
    {
     "data": {
      "text/plain": [
       "1178.422616152951"
      ]
     },
     "execution_count": 142,
     "metadata": {},
     "output_type": "execute_result"
    }
   ],
   "source": [
    "rmse2_ada=mean_squared_error(y,ada_y_predict,squared=False)\n",
    "rmse2_ada"
   ]
  },
  {
   "cell_type": "code",
   "execution_count": 141,
   "id": "b952317c-8422-47dd-a83e-0c32b70770ea",
   "metadata": {},
   "outputs": [
    {
     "data": {
      "text/plain": [
       "0.5230853025545152"
      ]
     },
     "execution_count": 141,
     "metadata": {},
     "output_type": "execute_result"
    }
   ],
   "source": [
    "r2_score2_ada=adamodel.score(X,y)\n",
    "r2_score2_ada"
   ]
  },
  {
   "cell_type": "markdown",
   "id": "87a77a93-089f-473d-8e74-dab9ab007c45",
   "metadata": {},
   "source": [
    "## Interpretation : So we see that Random Forest Model contains a good model with accuracy o"
   ]
  }
 ],
 "metadata": {
  "kernelspec": {
   "display_name": "Python 3 (ipykernel)",
   "language": "python",
   "name": "python3"
  },
  "language_info": {
   "codemirror_mode": {
    "name": "ipython",
    "version": 3
   },
   "file_extension": ".py",
   "mimetype": "text/x-python",
   "name": "python",
   "nbconvert_exporter": "python",
   "pygments_lexer": "ipython3",
   "version": "3.9.12"
  }
 },
 "nbformat": 4,
 "nbformat_minor": 5
}
